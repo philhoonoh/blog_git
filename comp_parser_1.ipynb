{
 "cells": [
  {
   "cell_type": "code",
   "execution_count": 5,
   "id": "d179aef8",
   "metadata": {},
   "outputs": [
    {
     "data": {
      "text/html": [
       "<style>.container { width:140% !important; }</style>"
      ],
      "text/plain": [
       "<IPython.core.display.HTML object>"
      ]
     },
     "metadata": {},
     "output_type": "display_data"
    }
   ],
   "source": [
    "from IPython.core.display import display, HTML\n",
    "\n",
    "display(HTML(\"<style>.container { width:140% !important; }</style>\"))"
   ]
  },
  {
   "cell_type": "markdown",
   "id": "43bebef0",
   "metadata": {},
   "source": [
    "<table class=\"tfo-notebook-buttons\" align=\"left\">\n",
    "  <td>\n",
    "    <a target=\"_blank\" href=\"https://github.com/philhoonoh/blog_git/blob/main/comp_parser_1.ipynb\"><img src=\"https://www.tensorflow.org/images/GitHub-Mark-32px.png\" />View Source</a>\n",
    "  </td>\n",
    "</table>"
   ]
  },
  {
   "cell_type": "markdown",
   "id": "81e1c0ba",
   "metadata": {},
   "source": [
    "# Python argparse Part1)\n",
    "  \n",
    "> usuage of argparse python module\n",
    "\n",
    "    - Attempt1. Handling argparse module on jupyter notebook \n",
    "    - Attempt2. Updating parse argument from config.json\n",
    "    - Goal. Handling model parameters using both \"argparse\" and \"config.json\" "
   ]
  },
  {
   "cell_type": "markdown",
   "id": "a3c3c9b5",
   "metadata": {},
   "source": [
    "## Attempt 1. Handling argparse module on jupyter notebook "
   ]
  },
  {
   "cell_type": "code",
   "execution_count": 1,
   "id": "683987ee",
   "metadata": {},
   "outputs": [],
   "source": [
    "import argparse\n",
    "import json\n",
    "import os\n",
    "from pprint import pprint"
   ]
  },
  {
   "cell_type": "code",
   "execution_count": 2,
   "id": "1f540e33",
   "metadata": {},
   "outputs": [],
   "source": [
    "# Instantiate Parser\n",
    "parser = argparse.ArgumentParser()"
   ]
  },
  {
   "cell_type": "code",
   "execution_count": 3,
   "id": "29d5abdf",
   "metadata": {},
   "outputs": [
    {
     "data": {
      "text/plain": [
       "_StoreAction(option_strings=['--model_dir'], dest='model_dir', nargs=None, const=None, default='./model', type=<class 'str'>, choices=None, help=None, metavar=None)"
      ]
     },
     "execution_count": 3,
     "metadata": {},
     "output_type": "execute_result"
    }
   ],
   "source": [
    "# Adding Parser Arguments\n",
    "\n",
    "parser.add_argument('--seed', type=int, default=42, help='random seed (default: 42)')\n",
    "parser.add_argument('--epochs', type=int, default=1, help='number of epochs to train (default: 1)')\n",
    "parser.add_argument('--dataset', type=str, default='MaskBaseDataset', help='dataset augmentation type (default: MaskBaseDataset)')\n",
    "parser.add_argument('--augmentation', type=str, default='BaseAugmentation', help='data augmentation type (default: BaseAugmentation)')\n",
    "parser.add_argument(\"--resize\", nargs=\"+\", type=int,default=[128, 96], help='resize size for image when training')\n",
    "parser.add_argument('--batch_size', type=int, default=64, help='input batch size for training (default: 64)')\n",
    "parser.add_argument('--valid_batch_size', type=int, default=1000, help='input batch size for validing (default: 1000)')\n",
    "parser.add_argument('--model', type=str, default='BaseModel', help='model type (default: BaseModel)')\n",
    "parser.add_argument('--optimizer', type=str, default='SGD', help='optimizer type (default: SGD)')\n",
    "parser.add_argument('--lr', type=float, default=1e-3, help='learning rate (default: 1e-3)')\n",
    "parser.add_argument('--val_ratio', type=float, default=0.2, help='ratio for validaton (default: 0.2)')\n",
    "parser.add_argument('--criterion', type=str, default='cross_entropy', help='criterion type (default: cross_entropy)')\n",
    "parser.add_argument('--lr_decay_step', type=int, default=20, help='learning rate scheduler deacy step (default: 20)')\n",
    "parser.add_argument('--log_interval', type=int, default=20, help='how many batches to wait before logging training status')\n",
    "parser.add_argument('--name', default='exp', help='model save at {SM_MODEL_DIR}/{name}')\n",
    "parser.add_argument('--config', type=str, default = './model_config_basic.json')\n",
    "parser.add_argument('--data_dir', type=str, default='/opt/ml/input/data/train/images')\n",
    "parser.add_argument('--model_dir', type=str, default='./model')"
   ]
  },
  {
   "cell_type": "markdown",
   "id": "e556602b",
   "metadata": {},
   "source": [
    "### Terminal Case \n",
    "\n",
    "> Executing parser on Jupyter gives error  \n",
    "\n",
    "```python\n",
    "args = parser.parse_args()\n",
    "```"
   ]
  },
  {
   "cell_type": "code",
   "execution_count": 4,
   "id": "47035f81",
   "metadata": {
    "scrolled": true
   },
   "outputs": [
    {
     "name": "stderr",
     "output_type": "stream",
     "text": [
      "usage: ipykernel_launcher.py [-h] [--seed SEED] [--epochs EPOCHS]\n",
      "                             [--dataset DATASET] [--augmentation AUGMENTATION]\n",
      "                             [--resize RESIZE [RESIZE ...]]\n",
      "                             [--batch_size BATCH_SIZE]\n",
      "                             [--valid_batch_size VALID_BATCH_SIZE]\n",
      "                             [--model MODEL] [--optimizer OPTIMIZER] [--lr LR]\n",
      "                             [--val_ratio VAL_RATIO] [--criterion CRITERION]\n",
      "                             [--lr_decay_step LR_DECAY_STEP]\n",
      "                             [--log_interval LOG_INTERVAL] [--name NAME]\n",
      "                             [--config CONFIG] [--data_dir DATA_DIR]\n",
      "                             [--model_dir MODEL_DIR]\n",
      "ipykernel_launcher.py: error: unrecognized arguments: -f /Users/philhoonoh/Library/Jupyter/runtime/kernel-067c8d6c-fd04-49eb-88e6-3614f02927d8.json\n"
     ]
    },
    {
     "ename": "SystemExit",
     "evalue": "2",
     "output_type": "error",
     "traceback": [
      "An exception has occurred, use %tb to see the full traceback.\n",
      "\u001b[0;31mSystemExit\u001b[0m\u001b[0;31m:\u001b[0m 2\n"
     ]
    },
    {
     "name": "stderr",
     "output_type": "stream",
     "text": [
      "/Users/philhoonoh/opt/anaconda3/envs/py38_transformers/lib/python3.8/site-packages/IPython/core/interactiveshell.py:3452: UserWarning: To exit: use 'exit', 'quit', or Ctrl-D.\n",
      "  warn(\"To exit: use 'exit', 'quit', or Ctrl-D.\", stacklevel=1)\n"
     ]
    }
   ],
   "source": [
    "args = parser.parse_args()"
   ]
  },
  {
   "cell_type": "markdown",
   "id": "79865de8",
   "metadata": {},
   "source": [
    "### Jupyter Case \n",
    "\n",
    "> Insert `[]` or `\"\"` as an argument to parser.parse_args()\n",
    "\n",
    "```python\n",
    "args = parser.parse_args(\"\")\n",
    "args = parser.parse_args([])\n",
    "```"
   ]
  },
  {
   "cell_type": "code",
   "execution_count": 4,
   "id": "e6911d31",
   "metadata": {},
   "outputs": [
    {
     "name": "stdout",
     "output_type": "stream",
     "text": [
      "{'augmentation': 'BaseAugmentation',\n",
      " 'batch_size': 64,\n",
      " 'config': './model_config_basic.json',\n",
      " 'criterion': 'cross_entropy',\n",
      " 'data_dir': '/opt/ml/input/data/train/images',\n",
      " 'dataset': 'MaskBaseDataset',\n",
      " 'epochs': 1,\n",
      " 'log_interval': 20,\n",
      " 'lr': 0.001,\n",
      " 'lr_decay_step': 20,\n",
      " 'model': 'BaseModel',\n",
      " 'model_dir': './model',\n",
      " 'name': 'exp',\n",
      " 'optimizer': 'SGD',\n",
      " 'resize': [128, 96],\n",
      " 'seed': 42,\n",
      " 'val_ratio': 0.2,\n",
      " 'valid_batch_size': 1000}\n"
     ]
    }
   ],
   "source": [
    "args = parser.parse_args(\"\")\n",
    "pprint(vars(args))"
   ]
  },
  {
   "cell_type": "markdown",
   "id": "71e49a3e",
   "metadata": {},
   "source": [
    "## Attempt 2. Updating parse argument from config.json"
   ]
  },
  {
   "cell_type": "markdown",
   "id": "41a5e419",
   "metadata": {},
   "source": [
    "### model_config_basic.json \n",
    "\n",
    "```python\n",
    "{\n",
    "    \"seed\": 42,\n",
    "    \"epochs\": 50,\n",
    "    \"dataset\": \"MaskSplitByProfileDataset\",\n",
    "    \"augmentation\": \"BasicAugmentation2\",\n",
    "    \"resize\": [224,224],\n",
    "    \"batch_size\": 64,\n",
    "    \"valid_batch_size\": 128,\n",
    "    \"model\": \"EfficientNet\",\n",
    "    \"optimizer\": \"Adam\",\n",
    "    \"lr\": 1e-4,\n",
    "    \"criterion\": \"cross_entropy\",\n",
    "    \"name\": \"exp\",\n",
    "    \"lr_decay_step\": 20,\n",
    "    \"log_interval\": 20,\n",
    "    \"data_dir\": \"/opt/ml/input/data/train/images\",\n",
    "    \"model_dir\": \"./model\"\n",
    "}\n",
    "```"
   ]
  },
  {
   "cell_type": "code",
   "execution_count": null,
   "id": "2b5d1855",
   "metadata": {},
   "outputs": [],
   "source": [
    "# reading model_config_basic.json file\n",
    "\n",
    "def read_json(file):\n",
    "    with open(file) as json_file:\n",
    "        data = json.load(json_file)\n",
    "    return data\n",
    "\n",
    "config = read_json(args.config)\n",
    "pprint(config)"
   ]
  },
  {
   "cell_type": "code",
   "execution_count": null,
   "id": "24d40be5",
   "metadata": {},
   "outputs": [],
   "source": [
    "# updating args object with config\n",
    "\n",
    "def update_argument(args, configs):\n",
    "    for arg in configs:\n",
    "        if arg in args:\n",
    "            setattr(args, arg, configs[arg])\n",
    "        else:\n",
    "            raise ValueError(f\"no argument {arg}\")\n",
    "    return args\n",
    "\n",
    "args = update_argument(args, config)\n",
    "pprint(vars(args))"
   ]
  },
  {
   "cell_type": "markdown",
   "id": "06ec85c3",
   "metadata": {},
   "source": [
    "# Conclusion  \n",
    " - We can now using parser arguments and modifying model parameters using config.json file   \n",
    "\n",
    "## Need more attention  \n",
    "\n",
    "- argparse versus config.json   \n",
    "    - Here config.json precedes over parser argument, meaning config value having same key with parser overwrites default value\n",
    "    - However making config.json as a default value and overwriting default value from the command line using argparse is more common practice!\n",
    "    \n",
    "    - How can we acheive that? -> check out `argparse Part2)`"
   ]
  }
 ],
 "metadata": {
  "kernelspec": {
   "display_name": "py38_transformers",
   "language": "python",
   "name": "py38"
  },
  "language_info": {
   "codemirror_mode": {
    "name": "ipython",
    "version": 3
   },
   "file_extension": ".py",
   "mimetype": "text/x-python",
   "name": "python",
   "nbconvert_exporter": "python",
   "pygments_lexer": "ipython3",
   "version": "3.8.12"
  }
 },
 "nbformat": 4,
 "nbformat_minor": 5
}
