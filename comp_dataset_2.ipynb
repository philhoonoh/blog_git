{
 "cells": [
  {
   "cell_type": "code",
   "execution_count": null,
   "id": "8301296f",
   "metadata": {},
   "outputs": [],
   "source": [
    "# PyTorch Dataset 심하 \n",
    "\n",
    "> Dataset을 "
   ]
  },
  {
   "cell_type": "code",
   "execution_count": 1,
   "id": "b05616ac",
   "metadata": {},
   "outputs": [],
   "source": [
    "import os \n",
    "import random\n",
    "from collections import defaultdict\n",
    "from typing import Tuple, List"
   ]
  },
  {
   "cell_type": "code",
   "execution_count": 2,
   "id": "e875bf3c",
   "metadata": {},
   "outputs": [],
   "source": [
    "from enum import Enum"
   ]
  },
  {
   "cell_type": "code",
   "execution_count": 3,
   "id": "8b126f1c",
   "metadata": {},
   "outputs": [],
   "source": [
    "from PIL import Image\n",
    "from torch.utils.data import Dataset, Subset, random_split\n",
    "from torchvision import transforms\n",
    "from torchvision.transforms import *\n",
    "import torch\n",
    "import numpy as np\n",
    "\n",
    "from torchsampler import ImbalancedDatasetSampler"
   ]
  },
  {
   "cell_type": "code",
   "execution_count": 4,
   "id": "ec4156a4",
   "metadata": {},
   "outputs": [],
   "source": [
    "IMG_EXTENSIONS = [\n",
    "    \".jpg\", \".JPG\", \".jpeg\", \".JPEG\", \".png\",\n",
    "    \".PNG\", \".ppm\", \".PPM\", \".bmp\", \".BMP\",\n",
    "]\n"
   ]
  },
  {
   "cell_type": "code",
   "execution_count": 5,
   "id": "37bb5f66",
   "metadata": {},
   "outputs": [],
   "source": [
    "def is_image_file(filename):\n",
    "    return any(filename.endswith(extension) for extension in IMG_EXTENSIONS)"
   ]
  },
  {
   "cell_type": "code",
   "execution_count": 6,
   "id": "491971ff",
   "metadata": {},
   "outputs": [],
   "source": [
    "class BaseAugmentation:\n",
    "    def __init__(self, resize, mean, std, **args):\n",
    "        self.transform = transforms.Compose([\n",
    "            Resize(resize, Image.BILINEAR),\n",
    "            ToTensor(),\n",
    "            Normalize(mean=mean, std=std),\n",
    "        ])\n",
    "\n",
    "    def __call__(self, image):\n",
    "        return self.transform(image)\n"
   ]
  },
  {
   "cell_type": "code",
   "execution_count": 7,
   "id": "da911e9b",
   "metadata": {},
   "outputs": [],
   "source": [
    "class AddGaussianNoise(object):\n",
    "    \"\"\"\n",
    "        transform 에 없는 기능들은 이런식으로 __init__, __call__, __repr__ 부분을\n",
    "        직접 구현하여 사용할 수 있습니다.\n",
    "    \"\"\"\n",
    "\n",
    "    def __init__(self, mean=0., std=1.):\n",
    "        self.std = std\n",
    "        self.mean = mean\n",
    "\n",
    "    def __call__(self, tensor):\n",
    "        return tensor + torch.randn(tensor.size()) * self.std + self.mean\n",
    "\n",
    "    def __repr__(self):\n",
    "        return self.__class__.__name__ + '(mean={0}, std={1})'.format(self.mean, self.std)"
   ]
  },
  {
   "cell_type": "code",
   "execution_count": null,
   "id": "e28978de",
   "metadata": {},
   "outputs": [],
   "source": [
    "a = AddGaussianNoise()"
   ]
  },
  {
   "cell_type": "code",
   "execution_count": null,
   "id": "321e5a1c",
   "metadata": {},
   "outputs": [],
   "source": [
    "# def __repr__(self):\n",
    "#    return self.__class__.__name__ + '(mean={0}, std={1})'.format(self.mean, self.std)\n",
    "print(a)"
   ]
  },
  {
   "cell_type": "code",
   "execution_count": 8,
   "id": "acc6cfa2",
   "metadata": {},
   "outputs": [],
   "source": [
    "class CustomAugmentation:\n",
    "    def __init__(self, resize, mean, std, **args):\n",
    "        self.transform = transforms.Compose([\n",
    "            CenterCrop((320, 256)),\n",
    "            Resize(resize, Image.BILINEAR),\n",
    "            ColorJitter(0.1, 0.1, 0.1, 0.1),\n",
    "            ToTensor(),\n",
    "            Normalize(mean=mean, std=std),\n",
    "            AddGaussianNoise()\n",
    "        ])\n",
    "\n",
    "    def __call__(self, image):\n",
    "        return self.transform(image)"
   ]
  },
  {
   "cell_type": "code",
   "execution_count": 9,
   "id": "7a736394",
   "metadata": {},
   "outputs": [],
   "source": [
    "class MaskLabels(int, Enum):\n",
    "    MASK = 0\n",
    "    INCORRECT = 1\n",
    "    NORMAL = 2"
   ]
  },
  {
   "cell_type": "code",
   "execution_count": 10,
   "id": "a2869292",
   "metadata": {},
   "outputs": [
    {
     "data": {
      "text/plain": [
       "enum.EnumMeta"
      ]
     },
     "execution_count": 10,
     "metadata": {},
     "output_type": "execute_result"
    }
   ],
   "source": [
    "type(MaskLabels)"
   ]
  },
  {
   "cell_type": "code",
   "execution_count": 11,
   "id": "81fd58b8",
   "metadata": {},
   "outputs": [
    {
     "name": "stdout",
     "output_type": "stream",
     "text": [
      "MaskLabels.MASK\n",
      "MaskLabels.INCORRECT\n"
     ]
    },
    {
     "data": {
      "text/plain": [
       "<MaskLabels.NORMAL: 2>"
      ]
     },
     "execution_count": 11,
     "metadata": {},
     "output_type": "execute_result"
    }
   ],
   "source": [
    "print(MaskLabels.MASK)\n",
    "print(MaskLabels.INCORRECT)\n",
    "MaskLabels.NORMAL"
   ]
  },
  {
   "cell_type": "code",
   "execution_count": 12,
   "id": "3acbddab",
   "metadata": {},
   "outputs": [
    {
     "name": "stdout",
     "output_type": "stream",
     "text": [
      "MaskLabels.MASK\n",
      "MaskLabels.INCORRECT\n",
      "MaskLabels.NORMAL\n"
     ]
    }
   ],
   "source": [
    "for m in MaskLabels:\n",
    "    print(m)"
   ]
  },
  {
   "cell_type": "code",
   "execution_count": 13,
   "id": "eb825410",
   "metadata": {},
   "outputs": [],
   "source": [
    "class GenderLabels(int, Enum):\n",
    "    MALE = 0\n",
    "    FEMALE = 1\n",
    "\n",
    "    @classmethod\n",
    "    def from_str(cls, value: str) -> int:\n",
    "        value = value.lower()\n",
    "        if value == \"male\":\n",
    "            return cls.MALE\n",
    "        elif value == \"female\":\n",
    "            return cls.FEMALE\n",
    "        else:\n",
    "            raise ValueError(f\"Gender value should be either 'male' or 'female', {value}\")\n"
   ]
  },
  {
   "cell_type": "code",
   "execution_count": 14,
   "id": "0377060b",
   "metadata": {},
   "outputs": [],
   "source": [
    "class AgeLabels(int, Enum):\n",
    "    YOUNG = 0\n",
    "    MIDDLE = 1\n",
    "    OLD = 2\n",
    "\n",
    "    @classmethod\n",
    "    def from_number(cls, value: str) -> int:\n",
    "        try:\n",
    "            value = int(value)\n",
    "        except Exception:\n",
    "            raise ValueError(f\"Age value should be numeric, {value}\")\n",
    "\n",
    "        if value < 30:\n",
    "            return cls.YOUNG\n",
    "        elif value < 60:\n",
    "            return cls.MIDDLE\n",
    "        else:\n",
    "            return cls.OLD"
   ]
  },
  {
   "cell_type": "markdown",
   "id": "23ad4ad7",
   "metadata": {},
   "source": [
    "GenderLabels.from_str('male')"
   ]
  },
  {
   "cell_type": "code",
   "execution_count": 15,
   "id": "02b9f379",
   "metadata": {},
   "outputs": [],
   "source": [
    "class MaskBaseDataset(Dataset):\n",
    "    num_classes = 3 * 2 * 3\n",
    "\n",
    "    _file_names = {\n",
    "        \"mask1\": MaskLabels.MASK,\n",
    "        \"mask2\": MaskLabels.MASK,\n",
    "        \"mask3\": MaskLabels.MASK,\n",
    "        \"mask4\": MaskLabels.MASK,\n",
    "        \"mask5\": MaskLabels.MASK,\n",
    "        \"incorrect_mask\": MaskLabels.INCORRECT,\n",
    "        \"normal\": MaskLabels.NORMAL\n",
    "    }\n",
    "\n",
    "    image_paths = []\n",
    "    mask_labels = []\n",
    "    gender_labels = []\n",
    "    age_labels = []\n",
    "\n",
    "    def __init__(self, data_dir, mean=(0.548, 0.504, 0.479), std=(0.237, 0.247, 0.246), val_ratio=0.2):\n",
    "        self.data_dir = data_dir\n",
    "        self.mean = mean\n",
    "        self.std = std\n",
    "        self.val_ratio = val_ratio\n",
    "\n",
    "        self.transform = None\n",
    "        self.setup()\n",
    "        self.calc_statistics()\n",
    "\n",
    "    def setup(self):\n",
    "        profiles = os.listdir(self.data_dir)\n",
    "        for profile in profiles:\n",
    "            if profile.startswith(\".\"):  # \".\" 로 시작하는 파일은 무시합니다\n",
    "                continue\n",
    "\n",
    "            img_folder = os.path.join(self.data_dir, profile)\n",
    "            for file_name in os.listdir(img_folder):\n",
    "                _file_name, ext = os.path.splitext(file_name)\n",
    "                if _file_name not in self._file_names:  # \".\" 로 시작하는 파일 및 invalid 한 파일들은 무시합니다\n",
    "                    continue\n",
    "\n",
    "                img_path = os.path.join(self.data_dir, profile, file_name)  # (resized_data, 000004_male_Asian_54, mask1.jpg)\n",
    "                mask_label = self._file_names[_file_name]\n",
    "\n",
    "                id, gender, race, age = profile.split(\"_\")\n",
    "                gender_label = GenderLabels.from_str(gender)\n",
    "                age_label = AgeLabels.from_number(age)\n",
    "\n",
    "                self.image_paths.append(img_path)\n",
    "                self.mask_labels.append(mask_label)\n",
    "                self.gender_labels.append(gender_label)\n",
    "                self.age_labels.append(age_label)\n",
    "\n",
    "    def calc_statistics(self):\n",
    "        has_statistics = self.mean is not None and self.std is not None\n",
    "        if not has_statistics:\n",
    "            print(\"[Warning] Calculating statistics... It can take a long time depending on your CPU machine\")\n",
    "            sums = []\n",
    "            squared = []\n",
    "            for image_path in self.image_paths[:3000]:\n",
    "                image = np.array(Image.open(image_path)).astype(np.int32)\n",
    "                sums.append(image.mean(axis=(0, 1)))\n",
    "                squared.append((image ** 2).mean(axis=(0, 1)))\n",
    "\n",
    "            self.mean = np.mean(sums, axis=0) / 255\n",
    "            self.std = (np.mean(squared, axis=0) - self.mean ** 2) ** 0.5 / 255\n",
    "\n",
    "    def set_transform(self, transform):\n",
    "        self.transform = transform\n",
    "\n",
    "    def __getitem__(self, index):\n",
    "        assert self.transform is not None, \".set_tranform 메소드를 이용하여 transform 을 주입해주세요\"\n",
    "\n",
    "        image = self.read_image(index)\n",
    "        mask_label = self.get_mask_label(index)\n",
    "        gender_label = self.get_gender_label(index)\n",
    "        age_label = self.get_age_label(index)\n",
    "        multi_class_label = self.encode_multi_class(mask_label, gender_label, age_label)\n",
    "\n",
    "        image_transform = self.transform(image)\n",
    "        return image_transform, multi_class_label\n",
    "\n",
    "    def __len__(self):\n",
    "        return len(self.image_paths)\n",
    "\n",
    "    def get_mask_label(self, index) -> MaskLabels:\n",
    "        return self.mask_labels[index]\n",
    "\n",
    "    def get_gender_label(self, index) -> GenderLabels:\n",
    "        return self.gender_labels[index]\n",
    "\n",
    "    def get_age_label(self, index) -> AgeLabels:\n",
    "        return self.age_labels[index]\n",
    "\n",
    "    def read_image(self, index):\n",
    "        image_path = self.image_paths[index]\n",
    "        return Image.open(image_path)\n",
    "\n",
    "    @staticmethod\n",
    "    def encode_multi_class(mask_label, gender_label, age_label) -> int:\n",
    "        return mask_label * 6 + gender_label * 3 + age_label\n",
    "\n",
    "    @staticmethod\n",
    "    def decode_multi_class(multi_class_label) -> Tuple[MaskLabels, GenderLabels, AgeLabels]:\n",
    "        mask_label = (multi_class_label // 6) % 3\n",
    "        gender_label = (multi_class_label // 3) % 2\n",
    "        age_label = multi_class_label % 3\n",
    "        return mask_label, gender_label, age_label\n",
    "\n",
    "    @staticmethod\n",
    "    def denormalize_image(image, mean, std):\n",
    "        img_cp = image.copy()\n",
    "        img_cp *= std\n",
    "        img_cp += mean\n",
    "        img_cp *= 255.0\n",
    "        img_cp = np.clip(img_cp, 0, 255).astype(np.uint8)\n",
    "        return img_cp\n",
    "\n",
    "    def split_dataset(self) -> Tuple[Subset, Subset]:\n",
    "        \"\"\"\n",
    "        데이터셋을 train 과 val 로 나눕니다,\n",
    "        pytorch 내부의 torch.utils.data.random_split 함수를 사용하여\n",
    "        torch.utils.data.Subset 클래스 둘로 나눕니다.\n",
    "        구현이 어렵지 않으니 구글링 혹은 IDE (e.g. pycharm) 의 navigation 기능을 통해 코드를 한 번 읽어보는 것을 추천드립니다^^\n",
    "        \"\"\"\n",
    "        n_val = int(len(self) * self.val_ratio)\n",
    "        n_train = len(self) - n_val\n",
    "        train_set, val_set = random_split(self, [n_train, n_val])\n",
    "        return train_set, val_set"
   ]
  },
  {
   "cell_type": "code",
   "execution_count": null,
   "id": "91f1398a",
   "metadata": {},
   "outputs": [],
   "source": [
    "data_dir = '/opt/ml/input/data/train/images'\n",
    "profiles = os.listdir(data_dir)\n",
    "# print(profiles)\n",
    "\n",
    "def encode_multi_class(mask_label, gender_label, age_label) -> int:\n",
    "    return mask_label * 6 + gender_label * 3 + age_label\n",
    "\n",
    "_file_names = {\n",
    "        \"mask1\": MaskLabels.MASK,\n",
    "        \"mask2\": MaskLabels.MASK,\n",
    "        \"mask3\": MaskLabels.MASK,\n",
    "        \"mask4\": MaskLabels.MASK,\n",
    "        \"mask5\": MaskLabels.MASK,\n",
    "        \"incorrect_mask\": MaskLabels.INCORRECT,\n",
    "        \"normal\": MaskLabels.NORMAL\n",
    "}\n",
    "image_paths = []\n",
    "mask_labels = []\n",
    "gender_labels = []\n",
    "age_labels = []\n",
    "\n",
    "multi_label_dict = defaultdict(list)\n",
    "\n",
    "cnt = 0\n",
    "for profile in profiles:\n",
    "    if profile.startswith(\".\"):  # \".\" 로 시작하는 파일은 무시합니다\n",
    "        continue\n",
    "\n",
    "    img_folder = os.path.join(data_dir, profile)\n",
    "\n",
    "    for file_name in os.listdir(img_folder):\n",
    "        _file_name, ext = os.path.splitext(file_name)\n",
    "        if _file_name not in _file_names:  # \".\" 로 시작하는 파일 및 invalid 한 파일들은 무시합니다\n",
    "            continue\n",
    "        img_path = os.path.join(data_dir, profile, file_name)\n",
    "        mask_label = _file_names[_file_name]\n",
    "\n",
    "        id, gender, race, age = profile.split(\"_\")\n",
    "        gender_label = GenderLabels.from_str(gender)\n",
    "        age_label = AgeLabels.from_number(age)\n",
    "\n",
    "        image_paths.append(img_path)\n",
    "        mask_labels.append(mask_label)\n",
    "        gender_labels.append(gender_label)\n",
    "        age_labels.append(age_label)\n",
    "        multi_class_label = encode_multi_class(mask_label, gender_label, age_label)\n",
    "        multi_label_dict[multi_class_label].append(cnt)\n",
    "        cnt += 1"
   ]
  },
  {
   "cell_type": "code",
   "execution_count": null,
   "id": "4df74034",
   "metadata": {},
   "outputs": [],
   "source": [
    "for key, value in multi_label_dict.items():\n",
    "    print(f'key : {key}, len(value) : {len(value)}')"
   ]
  },
  {
   "cell_type": "code",
   "execution_count": null,
   "id": "9d33ef0b",
   "metadata": {},
   "outputs": [],
   "source": [
    "train_indices = []\n",
    "val_indices = []\n",
    "        \n",
    "for key, value in multi_label_dict.items():\n",
    "    n_val = int(len(value) * 0.2)\n",
    "    random.shuffle(value)\n",
    "    key_val_indices = value[:n_val]\n",
    "    key_train_indices = value[n_val:]\n",
    "    \n",
    "    train_indices.append(key_train_indices)\n",
    "    val_indices.append(key_val_indices)\n",
    "    "
   ]
  },
  {
   "cell_type": "code",
   "execution_count": null,
   "id": "c65f47e3",
   "metadata": {},
   "outputs": [],
   "source": [
    "print(len(set(train_indices) |set(val_indices)))"
   ]
  },
  {
   "cell_type": "code",
   "execution_count": null,
   "id": "a8bed47f",
   "metadata": {},
   "outputs": [],
   "source": [
    "print()"
   ]
  },
  {
   "cell_type": "code",
   "execution_count": null,
   "id": "5ab3fc25",
   "metadata": {},
   "outputs": [],
   "source": [
    "from pprint import pprint\n",
    "for key, value in multi_label_dict.items():\n",
    "    print(f'{key} : {len(value)}')\n"
   ]
  },
  {
   "cell_type": "code",
   "execution_count": 16,
   "id": "8f7a753f",
   "metadata": {},
   "outputs": [],
   "source": [
    "class MaskStratifiedDataset(Dataset):\n",
    "    num_classes = 3 * 2 * 3\n",
    "\n",
    "    _file_names = {\n",
    "        \"mask1\": MaskLabels.MASK,\n",
    "        \"mask2\": MaskLabels.MASK,\n",
    "        \"mask3\": MaskLabels.MASK,\n",
    "        \"mask4\": MaskLabels.MASK,\n",
    "        \"mask5\": MaskLabels.MASK,\n",
    "        \"incorrect_mask\": MaskLabels.INCORRECT,\n",
    "        \"normal\": MaskLabels.NORMAL\n",
    "    }\n",
    "    multi_label_dict = defaultdict(list)\n",
    "    image_paths = []\n",
    "    mask_labels = []\n",
    "    gender_labels = []\n",
    "    age_labels = []\n",
    "\n",
    "    def __init__(self, data_dir, mean=(0.548, 0.504, 0.479), std=(0.237, 0.247, 0.246), val_ratio=0.2):\n",
    "        self.data_dir = data_dir\n",
    "        self.mean = mean\n",
    "        self.std = std\n",
    "        self.val_ratio = val_ratio\n",
    "\n",
    "        self.transform = None\n",
    "        self.setup()\n",
    "        self.calc_statistics()\n",
    "\n",
    "    def setup(self):\n",
    "        profiles = os.listdir(self.data_dir)\n",
    "        indice = 0\n",
    "        for profile in profiles:\n",
    "            if profile.startswith(\".\"):  # \".\" 로 시작하는 파일은 무시합니다\n",
    "                continue\n",
    "\n",
    "            img_folder = os.path.join(self.data_dir, profile)\n",
    "            for file_name in os.listdir(img_folder):\n",
    "                _file_name, ext = os.path.splitext(file_name)\n",
    "                if _file_name not in self._file_names:  # \".\" 로 시작하는 파일 및 invalid 한 파일들은 무시합니다\n",
    "                    continue\n",
    "\n",
    "                img_path = os.path.join(self.data_dir, profile, file_name)  # (resized_data, 000004_male_Asian_54, mask1.jpg)\n",
    "                mask_label = self._file_names[_file_name]\n",
    "\n",
    "                id, gender, race, age = profile.split(\"_\")\n",
    "                gender_label = GenderLabels.from_str(gender)\n",
    "                age_label = AgeLabels.from_number(age)\n",
    "\n",
    "                self.image_paths.append(img_path)\n",
    "                self.mask_labels.append(mask_label)\n",
    "                self.gender_labels.append(gender_label)\n",
    "                self.age_labels.append(age_label)\n",
    "                \n",
    "                multi_class_label = self.encode_multi_class(mask_label, gender_label, age_label)\n",
    "                self.multi_label_dict[multi_class_label].append(indice)\n",
    "                indice += 1\n",
    "\n",
    "    def calc_statistics(self):\n",
    "        has_statistics = self.mean is not None and self.std is not None\n",
    "        if not has_statistics:\n",
    "            print(\"[Warning] Calculating statistics... It can take a long time depending on your CPU machine\")\n",
    "            sums = []\n",
    "            squared = []\n",
    "            for image_path in self.image_paths[:3000]:\n",
    "                image = np.array(Image.open(image_path)).astype(np.int32)\n",
    "                sums.append(image.mean(axis=(0, 1)))\n",
    "                squared.append((image ** 2).mean(axis=(0, 1)))\n",
    "\n",
    "            self.mean = np.mean(sums, axis=0) / 255\n",
    "            self.std = (np.mean(squared, axis=0) - self.mean ** 2) ** 0.5 / 255\n",
    "\n",
    "    def set_transform(self, transform):\n",
    "        self.transform = transform\n",
    "\n",
    "    def __getitem__(self, index):\n",
    "        assert self.transform is not None, \".set_tranform 메소드를 이용하여 transform 을 주입해주세요\"\n",
    "\n",
    "        image = self.read_image(index)\n",
    "        mask_label = self.get_mask_label(index)\n",
    "        gender_label = self.get_gender_label(index)\n",
    "        age_label = self.get_age_label(index)\n",
    "        multi_class_label = self.encode_multi_class(mask_label, gender_label, age_label)\n",
    "\n",
    "        image_transform = self.transform(image)\n",
    "        return image_transform, multi_class_label\n",
    "\n",
    "    def __len__(self):\n",
    "        return len(self.image_paths)\n",
    "\n",
    "    def get_mask_label(self, index) -> MaskLabels:\n",
    "        return self.mask_labels[index]\n",
    "\n",
    "    def get_gender_label(self, index) -> GenderLabels:\n",
    "        return self.gender_labels[index]\n",
    "\n",
    "    def get_age_label(self, index) -> AgeLabels:\n",
    "        return self.age_labels[index]\n",
    "\n",
    "    def read_image(self, index):\n",
    "        image_path = self.image_paths[index]\n",
    "        return Image.open(image_path)\n",
    "\n",
    "    @staticmethod\n",
    "    def encode_multi_class(mask_label, gender_label, age_label) -> int:\n",
    "        return mask_label * 6 + gender_label * 3 + age_label\n",
    "\n",
    "    @staticmethod\n",
    "    def decode_multi_class(multi_class_label) -> Tuple[MaskLabels, GenderLabels, AgeLabels]:\n",
    "        mask_label = (multi_class_label // 6) % 3\n",
    "        gender_label = (multi_class_label // 3) % 2\n",
    "        age_label = multi_class_label % 3\n",
    "        return mask_label, gender_label, age_label\n",
    "\n",
    "    @staticmethod\n",
    "    def denormalize_image(image, mean, std):\n",
    "        img_cp = image.copy()\n",
    "        img_cp *= std\n",
    "        img_cp += mean\n",
    "        img_cp *= 255.0\n",
    "        img_cp = np.clip(img_cp, 0, 255).astype(np.uint8)\n",
    "        return img_cp\n",
    "\n",
    "    def split_dataset(self) -> Tuple[Subset, Subset]:\n",
    "        \"\"\"\n",
    "        데이터셋을 train 과 val 로 나눕니다,\n",
    "        pytorch 내부의 torch.utils.data.random_split 함수를 사용하여\n",
    "        torch.utils.data.Subset 클래스 둘로 나눕니다.\n",
    "        구현이 어렵지 않으니 구글링 혹은 IDE (e.g. pycharm) 의 navigation 기능을 통해 코드를 한 번 읽어보는 것을 추천드립니다^^\n",
    "        \"\"\"\n",
    "        train_indices = []\n",
    "        val_indices = []\n",
    "\n",
    "        for key, value in self.multi_label_dict.items():\n",
    "            n_val = int(len(value) * 0.2)\n",
    "            random.shuffle(value)\n",
    "            key_val_indices = value[:n_val]\n",
    "            key_train_indices = value[n_val:]\n",
    "\n",
    "            val_indices += key_val_indices\n",
    "            train_indices += key_train_indices\n",
    "            \n",
    "            random.shuffle(val_indices)\n",
    "            random.shuffle(train_indices)\n",
    "            \n",
    "        return Subset(self, train_indices), Subset(self, val_indices)"
   ]
  },
  {
   "cell_type": "code",
   "execution_count": 17,
   "id": "c549a4af",
   "metadata": {},
   "outputs": [],
   "source": [
    "class MaskStratifiedDataset(MaskBaseDataset):\n",
    "    \"\"\"\n",
    "        target class에 proportional 하게 train/val set을 나눔\n",
    "    \"\"\"\n",
    "    def __init__(self, data_dir, mean=(0.548, 0.504, 0.479), std=(0.237, 0.247, 0.246), val_ratio=0.2):\n",
    "        self.multi_label_dict = defaultdict(list)\n",
    "        super().__init__(data_dir, mean, std, val_ratio)\n",
    "\n",
    "    def setup(self):\n",
    "        profiles = os.listdir(self.data_dir)\n",
    "        indice = 0\n",
    "        for profile in profiles:\n",
    "            if profile.startswith(\".\"):  # \".\" 로 시작하는 파일은 무시합니다\n",
    "                continue\n",
    "\n",
    "            img_folder = os.path.join(self.data_dir, profile)\n",
    "            for file_name in os.listdir(img_folder):\n",
    "                _file_name, ext = os.path.splitext(file_name)\n",
    "                if _file_name not in self._file_names:  # \".\" 로 시작하는 파일 및 invalid 한 파일들은 무시합니다\n",
    "                    continue\n",
    "\n",
    "                img_path = os.path.join(self.data_dir, profile, file_name)  # (resized_data, 000004_male_Asian_54, mask1.jpg)\n",
    "                mask_label = self._file_names[_file_name]\n",
    "\n",
    "                id, gender, race, age = profile.split(\"_\")\n",
    "                gender_label = GenderLabels.from_str(gender)\n",
    "                age_label = AgeLabels.from_number(age)\n",
    "\n",
    "                self.image_paths.append(img_path)\n",
    "                self.mask_labels.append(mask_label)\n",
    "                self.gender_labels.append(gender_label)\n",
    "                self.age_labels.append(age_label)\n",
    "                \n",
    "                multi_class_label = self.encode_multi_class(mask_label, gender_label, age_label)\n",
    "                self.multi_label_dict[multi_class_label].append(indice)\n",
    "                indice += 1\n",
    "\n",
    "    def split_dataset(self) -> Tuple[Subset, Subset]:\n",
    "        train_indices = []\n",
    "        val_indices = []\n",
    "\n",
    "        for key, value in self.multi_label_dict.items():\n",
    "            n_val = int(len(value) * self.val_ratio)\n",
    "            random.shuffle(value)\n",
    "            key_val_indices = value[:n_val]\n",
    "            key_train_indices = value[n_val:]\n",
    "\n",
    "            val_indices += key_val_indices\n",
    "            train_indices += key_train_indices\n",
    "            \n",
    "            random.shuffle(val_indices)\n",
    "            random.shuffle(train_indices)\n",
    "            \n",
    "        return Subset(self, train_indices), Subset(self, val_indices)"
   ]
  },
  {
   "cell_type": "code",
   "execution_count": 18,
   "id": "084e416c",
   "metadata": {},
   "outputs": [],
   "source": [
    "class BaseAugmentation:\n",
    "    def __init__(self, resize, mean, std, **args):\n",
    "        self.transform = transforms.Compose([\n",
    "            Resize(resize, Image.BILINEAR),\n",
    "            ToTensor(),\n",
    "            Normalize(mean=mean, std=std),\n",
    "        ])\n",
    "\n",
    "    def __call__(self, image):\n",
    "        return self.transform(image)"
   ]
  },
  {
   "cell_type": "code",
   "execution_count": null,
   "id": "1e508bc3",
   "metadata": {},
   "outputs": [],
   "source": [
    "dataset = MaskStratifiedDataset('/opt/ml/input/data/train/images')\n",
    "dataset.num_classes"
   ]
  },
  {
   "cell_type": "code",
   "execution_count": null,
   "id": "b79d32a7",
   "metadata": {},
   "outputs": [],
   "source": [
    "transform = BaseAugmentation(\n",
    "        resize=[224,224],\n",
    "        mean=dataset.mean,\n",
    "        std=dataset.std,\n",
    "    )\n",
    "dataset.set_transform(transform)"
   ]
  },
  {
   "cell_type": "code",
   "execution_count": null,
   "id": "8f67c455",
   "metadata": {},
   "outputs": [],
   "source": [
    "train_set, val_set = dataset.split_dataset()"
   ]
  },
  {
   "cell_type": "code",
   "execution_count": null,
   "id": "3f3fd891",
   "metadata": {},
   "outputs": [],
   "source": [
    "len(train_set), len(val_set)"
   ]
  },
  {
   "cell_type": "code",
   "execution_count": null,
   "id": "30713bb3",
   "metadata": {},
   "outputs": [],
   "source": [
    "train_loader = DataLoader(\n",
    "        train_set,\n",
    "        batch_size=2,\n",
    "        shuffle=True,\n",
    "        drop_last=True,\n",
    "    )"
   ]
  },
  {
   "cell_type": "code",
   "execution_count": null,
   "id": "acd0e934",
   "metadata": {},
   "outputs": [],
   "source": [
    "a = next(iter(train_loader))"
   ]
  },
  {
   "cell_type": "code",
   "execution_count": null,
   "id": "6ae69f2a",
   "metadata": {},
   "outputs": [],
   "source": [
    "for train_batch in train_loader:\n",
    "    inputs, labels = train_batch\n",
    "    break\n"
   ]
  },
  {
   "cell_type": "code",
   "execution_count": null,
   "id": "4b31c43d",
   "metadata": {},
   "outputs": [],
   "source": [
    "labels"
   ]
  },
  {
   "cell_type": "code",
   "execution_count": null,
   "id": "530c6e11",
   "metadata": {},
   "outputs": [],
   "source": [
    "train_dist = defaultdict(lambda:0)\n",
    "for i, x in enumerate(train_data):\n",
    "    train_dist[x[1]] += 1"
   ]
  },
  {
   "cell_type": "code",
   "execution_count": null,
   "id": "f90b73d8",
   "metadata": {},
   "outputs": [],
   "source": [
    "val_dist = defaultdict(lambda:0)\n",
    "for i, x in enumerate(val_data):\n",
    "    val_dist[x[1]] += 1"
   ]
  },
  {
   "cell_type": "code",
   "execution_count": null,
   "id": "d32cb187",
   "metadata": {},
   "outputs": [],
   "source": [
    "import matplotlib.pyplot as plt\n",
    "\n",
    "fig, axes = plt.subplots(1, 2, figsize=(15, 7))\n",
    "axes[0].bar(train_dist.keys(), train_dist.values(), color='royalblue')\n",
    "axes[1].bar(val_dist.keys(), val_dist.values(), color='tomato')\n",
    "    \n",
    "plt.show()"
   ]
  },
  {
   "cell_type": "code",
   "execution_count": 19,
   "id": "1330e51b",
   "metadata": {},
   "outputs": [],
   "source": [
    "class ThreeWayStratifiedDataset(MaskBaseDataset):\n",
    "    def __init__(self, data_dir, mean=(0.548, 0.504, 0.479), std=(0.237, 0.247, 0.246), val_ratio=0.2):\n",
    "        self.multi_label_dict = defaultdict(list)\n",
    "        super().__init__(data_dir, mean, std, val_ratio)\n",
    "    \n",
    "    def __getitem__(self, index):\n",
    "        assert self.transform is not None, \".set_tranform 메소드를 이용하여 transform 을 주입해주세요\"\n",
    "\n",
    "        image = self.read_image(index)\n",
    "        mask_label = self.get_mask_label(index)\n",
    "        gender_label = self.get_gender_label(index)\n",
    "        age_label = self.get_age_label(index)\n",
    "        multi_class_label = self.encode_multi_class(mask_label, gender_label, age_label)\n",
    "\n",
    "        image_transform = self.transform(image)\n",
    "        return image_transform, [age_label, mask_label, gender_label]\n",
    "    \n",
    "    def setup(self):\n",
    "        profiles = os.listdir(self.data_dir)\n",
    "        indice = 0\n",
    "        for profile in profiles:\n",
    "            if profile.startswith(\".\"):  # \".\" 로 시작하는 파일은 무시합니다\n",
    "                continue\n",
    "\n",
    "            img_folder = os.path.join(self.data_dir, profile)\n",
    "            for file_name in os.listdir(img_folder):\n",
    "                _file_name, ext = os.path.splitext(file_name)\n",
    "                if _file_name not in self._file_names:  # \".\" 로 시작하는 파일 및 invalid 한 파일들은 무시합니다\n",
    "                    continue\n",
    "\n",
    "                img_path = os.path.join(self.data_dir, profile, file_name)  # (resized_data, 000004_male_Asian_54, mask1.jpg)\n",
    "                mask_label = self._file_names[_file_name]\n",
    "\n",
    "                gender, race, age = profile.split(\"_\")\n",
    "                gender_label = GenderLabels.from_str(gender)\n",
    "                age_label = AgeLabels.from_number(age)\n",
    "\n",
    "                self.image_paths.append(img_path)\n",
    "                self.mask_labels.append(mask_label)\n",
    "                self.gender_labels.append(gender_label)\n",
    "                self.age_labels.append(age_label)\n",
    "                \n",
    "                multi_class_label = self.encode_multi_class(mask_label, gender_label, age_label)\n",
    "                self.multi_label_dict[multi_class_label].append(indice)\n",
    "                indice += 1\n",
    "\n",
    "    def split_dataset(self) -> Tuple[Subset, Subset]:\n",
    "        \"\"\"\n",
    "        데이터셋을 target 의 비율로 나눕니다.\n",
    "        \"\"\"\n",
    "        train_indices = []\n",
    "        val_indices = []\n",
    "\n",
    "        for key, value in self.multi_label_dict.items():\n",
    "            n_val = int(len(value) * self.val_ratio)\n",
    "            random.shuffle(value)\n",
    "            key_val_indices = value[:n_val]\n",
    "            key_train_indices = value[n_val:]\n",
    "\n",
    "            val_indices += key_val_indices\n",
    "            train_indices += key_train_indices\n",
    "            \n",
    "            random.shuffle(val_indices)\n",
    "            random.shuffle(train_indices)\n",
    "            \n",
    "        return Subset(self, train_indices), Subset(self, val_indices)"
   ]
  },
  {
   "cell_type": "code",
   "execution_count": null,
   "id": "cdffef0e",
   "metadata": {},
   "outputs": [],
   "source": [
    "dataset = ThreeWayStratifiedDataset('/opt/ml/input/data/train/images')\n",
    "dataset.num_classes"
   ]
  },
  {
   "cell_type": "code",
   "execution_count": null,
   "id": "81cfdc3d",
   "metadata": {},
   "outputs": [],
   "source": [
    "transform = BaseAugmentation(\n",
    "        resize=[224,224],\n",
    "        mean=dataset.mean,\n",
    "        std=dataset.std,\n",
    "    )\n",
    "dataset.set_transform(transform)"
   ]
  },
  {
   "cell_type": "code",
   "execution_count": null,
   "id": "34802b4c",
   "metadata": {},
   "outputs": [],
   "source": [
    "train_set, val_set = dataset.split_dataset()"
   ]
  },
  {
   "cell_type": "code",
   "execution_count": null,
   "id": "f30b47ed",
   "metadata": {},
   "outputs": [],
   "source": [
    "len(train_set), len(val_set)"
   ]
  },
  {
   "cell_type": "code",
   "execution_count": null,
   "id": "213a2e9f",
   "metadata": {},
   "outputs": [],
   "source": [
    "train_loader = DataLoader(\n",
    "        train_set,\n",
    "        batch_size=5,\n",
    "        shuffle=True,\n",
    "        drop_last=True,\n",
    "    )"
   ]
  },
  {
   "cell_type": "code",
   "execution_count": null,
   "id": "f0463fe6",
   "metadata": {},
   "outputs": [],
   "source": [
    "for train_batch in train_loader:\n",
    "    inputs, labels = train_batch\n",
    "    break"
   ]
  },
  {
   "cell_type": "code",
   "execution_count": null,
   "id": "9dc32323",
   "metadata": {},
   "outputs": [],
   "source": [
    "inputs, labels"
   ]
  },
  {
   "cell_type": "code",
   "execution_count": null,
   "id": "f1cddf9d",
   "metadata": {},
   "outputs": [],
   "source": [
    "def collate_fn(batch):\n",
    "    \n",
    "    data_list, label_list = [], []\n",
    "    \n",
    "    for _data, _label in batch:\n",
    "        data_list.append(_data)\n",
    "        label_list.append(torch.LongTensor(_label))\n",
    "    data_list = torch.stack(data_list, dim = 0)\n",
    "    label_list = torch.stack(label_list, dim = 1)\n",
    "    \n",
    "    return torch.Tensor(data_list), label_list"
   ]
  },
  {
   "cell_type": "code",
   "execution_count": null,
   "id": "472bfc1d",
   "metadata": {},
   "outputs": [],
   "source": [
    "train_loader2 = DataLoader(\n",
    "        train_set,\n",
    "        batch_size=5,\n",
    "        collate_fn=collate_fn,\n",
    "        shuffle=True,\n",
    "        drop_last=True,\n",
    "    )"
   ]
  },
  {
   "cell_type": "code",
   "execution_count": null,
   "id": "f923effa",
   "metadata": {},
   "outputs": [],
   "source": [
    "import torch\n",
    "for train_batch in train_loader2:\n",
    "    inputs, labels = train_batch\n",
    "    break"
   ]
  },
  {
   "cell_type": "code",
   "execution_count": null,
   "id": "b023555f",
   "metadata": {},
   "outputs": [],
   "source": [
    "type(inputs), type(labels)"
   ]
  },
  {
   "cell_type": "code",
   "execution_count": null,
   "id": "21c0441c",
   "metadata": {},
   "outputs": [],
   "source": [
    "inputs.shape"
   ]
  },
  {
   "cell_type": "code",
   "execution_count": null,
   "id": "1623f3ae",
   "metadata": {},
   "outputs": [],
   "source": [
    "labels.shape"
   ]
  },
  {
   "cell_type": "code",
   "execution_count": null,
   "id": "b1616968",
   "metadata": {},
   "outputs": [],
   "source": [
    "labels"
   ]
  },
  {
   "cell_type": "code",
   "execution_count": null,
   "id": "241d0afb",
   "metadata": {},
   "outputs": [],
   "source": [
    "labels[0,:]"
   ]
  },
  {
   "cell_type": "markdown",
   "id": "6bd465f5",
   "metadata": {},
   "source": [
    "## Custom"
   ]
  },
  {
   "cell_type": "code",
   "execution_count": 20,
   "id": "fb2f39ac",
   "metadata": {},
   "outputs": [],
   "source": [
    "class MaskSplitByProfileDataset(MaskBaseDataset):\n",
    "    \"\"\"\n",
    "        train / val 나누는 기준을 이미지에 대해서 random 이 아닌\n",
    "        사람(profile)을 기준으로 나눕니다.\n",
    "        구현은 val_ratio 에 맞게 train / val 나누는 것을 이미지 전체가 아닌 사람(profile)에 대해서 진행하여 indexing 을 합니다\n",
    "        이후 `split_dataset` 에서 index 에 맞게 Subset 으로 dataset 을 분기합니다.\n",
    "    \"\"\"\n",
    "\n",
    "    def __init__(self, data_dir, mean=(0.548, 0.504, 0.479), std=(0.237, 0.247, 0.246), val_ratio=0.2):\n",
    "        self.indices = defaultdict(list)\n",
    "        super().__init__(data_dir, mean, std, val_ratio)\n",
    "\n",
    "    @staticmethod\n",
    "    def _split_profile(profiles, val_ratio):\n",
    "        length = len(profiles)\n",
    "        n_val = int(length * val_ratio)\n",
    "\n",
    "        val_indices = set(random.choices(range(length), k=n_val))\n",
    "        train_indices = set(range(length)) - val_indices\n",
    "        return {\n",
    "            \"train\": train_indices,\n",
    "            \"val\": val_indices\n",
    "        }\n",
    "\n",
    "    def setup(self):\n",
    "        profiles = os.listdir(self.data_dir)\n",
    "        profiles = [profile for profile in profiles if not profile.startswith(\".\")]\n",
    "        split_profiles = self._split_profile(profiles, self.val_ratio)\n",
    "\n",
    "        cnt = 0\n",
    "        for phase, indices in split_profiles.items():\n",
    "            for _idx in indices:\n",
    "                profile = profiles[_idx]\n",
    "                img_folder = os.path.join(self.data_dir, profile)\n",
    "                for file_name in os.listdir(img_folder):\n",
    "                    _file_name, ext = os.path.splitext(file_name)\n",
    "                    if _file_name not in self._file_names:  # \".\" 로 시작하는 파일 및 invalid 한 파일들은 무시합니다\n",
    "                        continue\n",
    "\n",
    "                    img_path = os.path.join(self.data_dir, profile, file_name)  # (resized_data, 000004_male_Asian_54, mask1.jpg)\n",
    "                    mask_label = self._file_names[_file_name]\n",
    "\n",
    "                    id, gender, race, age = profile.split(\"_\")\n",
    "                    gender_label = GenderLabels.from_str(gender)\n",
    "                    age_label = AgeLabels.from_number(age)\n",
    "\n",
    "                    self.image_paths.append(img_path)\n",
    "                    self.mask_labels.append(mask_label)\n",
    "                    self.gender_labels.append(gender_label)\n",
    "                    self.age_labels.append(age_label)\n",
    "\n",
    "                    self.indices[phase].append(cnt)\n",
    "                    cnt += 1\n",
    "\n",
    "    def split_dataset(self) -> List[Subset]:\n",
    "        return [Subset(self, indices) for phase, indices in self.indices.items()]"
   ]
  },
  {
   "cell_type": "code",
   "execution_count": null,
   "id": "2063930a",
   "metadata": {},
   "outputs": [],
   "source": []
  },
  {
   "cell_type": "code",
   "execution_count": 21,
   "id": "bbd77546",
   "metadata": {},
   "outputs": [],
   "source": [
    "class OnlyAgeMaskSplitByProfileDataset(MaskSplitByProfileDataset):\n",
    "    \"\"\"\n",
    "        train / val 나누는 기준을 이미지에 대해서 random 이 아닌\n",
    "        사람(profile)을 기준으로 나눕니다.\n",
    "        구현은 val_ratio 에 맞게 train / val 나누는 것을 이미지 전체가 아닌 사람(profile)에 대해서 진행하여 indexing 을 합니다\n",
    "        이후 `split_dataset` 에서 index 에 맞게 Subset 으로 dataset 을 분기합니다.\n",
    "    \"\"\"\n",
    "\n",
    "    def __init__(self, data_dir, mean=(0.548, 0.504, 0.479), std=(0.237, 0.247, 0.246), val_ratio=0.2):\n",
    "        super().__init__(data_dir, mean, std, val_ratio)\n",
    "        self.num_classes = 3\n",
    "    \n",
    "    def __getitem__(self, index):\n",
    "        assert self.transform is not None, \".set_tranform 메소드를 이용하여 transform 을 주입해주세요\"\n",
    "        \n",
    "        image = self.read_image(index)\n",
    "        age_label = self.get_age_label(index)\n",
    "        image_transform = self.transform(image)\n",
    "        \n",
    "        return image_transform, age_label"
   ]
  },
  {
   "cell_type": "code",
   "execution_count": 22,
   "id": "e2103db3",
   "metadata": {},
   "outputs": [],
   "source": [
    "class BasicAugmentation2:\n",
    "    def __init__(self, resize, mean, std, **args):\n",
    "        self.transform = transforms.Compose([\n",
    "            CenterCrop((384, int(384*0.8))),\n",
    "            Resize(resize, Image.BILINEAR),\n",
    "            ToTensor(),\n",
    "            Normalize(mean=mean, std=std),\n",
    "        ])\n",
    "\n",
    "    def __call__(self, image):\n",
    "        return self.transform(image)"
   ]
  },
  {
   "cell_type": "code",
   "execution_count": 23,
   "id": "5587f685",
   "metadata": {},
   "outputs": [],
   "source": [
    "data_dir = '/opt/ml/input/data/train/images'\n",
    "\n",
    "dataset = OnlyAgeMaskSplitByProfileDataset(\n",
    "    data_dir=data_dir,\n",
    ")\n",
    "num_classes = dataset.num_classes"
   ]
  },
  {
   "cell_type": "code",
   "execution_count": 24,
   "id": "78d30eda",
   "metadata": {},
   "outputs": [
    {
     "name": "stdout",
     "output_type": "stream",
     "text": [
      "3\n"
     ]
    }
   ],
   "source": [
    "print(num_classes)"
   ]
  },
  {
   "cell_type": "code",
   "execution_count": 25,
   "id": "947f524d",
   "metadata": {},
   "outputs": [],
   "source": [
    "# default: BaseAugmentation\n",
    "transform = BasicAugmentation2(\n",
    "    resize=[224,224],\n",
    "    mean=dataset.mean,\n",
    "    std=dataset.std,\n",
    ")\n",
    "dataset.set_transform(transform)"
   ]
  },
  {
   "cell_type": "code",
   "execution_count": 35,
   "id": "664513fd",
   "metadata": {},
   "outputs": [],
   "source": [
    "lst = []\n",
    "i = 0\n",
    "\n",
    "for image, label in dataset:\n",
    "#     lst.append((image.numpy()[0], label)\n",
    "    i = i + 1\n",
    "    if i == 3:\n",
    "        break\n",
    "    "
   ]
  },
  {
   "cell_type": "code",
   "execution_count": 51,
   "id": "3bb6df48",
   "metadata": {},
   "outputs": [],
   "source": [
    "iter_d = iter(dataset)"
   ]
  },
  {
   "cell_type": "code",
   "execution_count": 81,
   "id": "b09871cb",
   "metadata": {},
   "outputs": [],
   "source": [
    "image, label = next(iter_d)"
   ]
  },
  {
   "cell_type": "code",
   "execution_count": 82,
   "id": "fefd1d9b",
   "metadata": {},
   "outputs": [
    {
     "data": {
      "text/plain": [
       "<AgeLabels.OLD: 2>"
      ]
     },
     "execution_count": 82,
     "metadata": {},
     "output_type": "execute_result"
    }
   ],
   "source": [
    "label"
   ]
  },
  {
   "cell_type": "code",
   "execution_count": 83,
   "id": "2ca7f42b",
   "metadata": {},
   "outputs": [
    {
     "data": {
      "text/plain": [
       "<matplotlib.image.AxesImage at 0x7f1f6bc7c430>"
      ]
     },
     "execution_count": 83,
     "metadata": {},
     "output_type": "execute_result"
    },
    {
     "data": {
      "image/png": "[encoded data removed]",
      "text/plain": [
       "<Figure size 432x288 with 1 Axes>"
      ]
     },
     "metadata": {
      "needs_background": "light"
     },
     "output_type": "display_data"
    }
   ],
   "source": [
    "import matplotlib.pyplot as plt\n",
    "\n",
    "plt.imshow(image.numpy()[0], cmap='gray')"
   ]
  },
  {
   "cell_type": "code",
   "execution_count": null,
   "id": "fedb28d5",
   "metadata": {},
   "outputs": [],
   "source": [
    "def grid_image(np_images, gts, preds, n=16, shuffle=False):\n",
    "    batch_size = np_images.shape[0]\n",
    "    assert n <= batch_size\n",
    "\n",
    "    choices = random.choices(range(batch_size), k=n) if shuffle else list(range(n))\n",
    "    figure = plt.figure(figsize=(12, 18 + 2))  # cautions: hardcoded, 이미지 크기에 따라 figsize 를 조정해야 할 수 있습니다. T.T\n",
    "    plt.subplots_adjust(top=0.8)               # cautions: hardcoded, 이미지 크기에 따라 top 를 조정해야 할 수 있습니다. T.T\n",
    "    n_grid = np.ceil(n ** 0.5)\n",
    "    tasks = [\"mask\", \"gender\", \"age\"]\n",
    "    for idx, choice in enumerate(choices):\n",
    "        gt = gts[choice].item()\n",
    "        pred = preds[choice].item()\n",
    "        image = np_images[choice]\n",
    "        # title = f\"gt: {gt}, pred: {pred}\"\n",
    "        gt_decoded_labels = MaskBaseDataset.decode_multi_class(gt)\n",
    "        pred_decoded_labels = MaskBaseDataset.decode_multi_class(pred)\n",
    "        title = \"\\n\".join([\n",
    "            f\"{task} - gt: {gt_label}, pred: {pred_label}\"\n",
    "            for gt_label, pred_label, task\n",
    "            in zip(gt_decoded_labels, pred_decoded_labels, tasks)\n",
    "        ])\n",
    "\n",
    "        plt.subplot(n_grid, n_grid, idx + 1, title=title)\n",
    "        plt.xticks([])\n",
    "        plt.yticks([])\n",
    "        plt.grid(False)\n",
    "        plt.imshow(image, cmap=plt.cm.binary)\n",
    "\n",
    "    return figure"
   ]
  }
 ],
 "metadata": {
  "kernelspec": {
   "display_name": "py38_transformers",
   "language": "python",
   "name": "py38"
  },
  "language_info": {
   "codemirror_mode": {
    "name": "ipython",
    "version": 3
   },
   "file_extension": ".py",
   "mimetype": "text/x-python",
   "name": "python",
   "nbconvert_exporter": "python",
   "pygments_lexer": "ipython3",
   "version": "3.8.12"
  }
 },
 "nbformat": 4,
 "nbformat_minor": 5
}
