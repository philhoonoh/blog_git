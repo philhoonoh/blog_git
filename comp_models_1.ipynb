{
 "cells": [
  {
   "cell_type": "code",
   "execution_count": null,
   "id": "cef4c7f6",
   "metadata": {},
   "outputs": [],
   "source": [
    "from IPython.core.display import display, HTML\n",
    "\n",
    "display(HTML(\"<style>.container { width:140% !important; }</style>\"))"
   ]
  },
  {
   "cell_type": "markdown",
   "id": "5bb972cf",
   "metadata": {},
   "source": [
    "<table class=\"tfo-notebook-buttons\" align=\"left\">\n",
    "  <td>\n",
    "    <a target=\"_blank\" href=\"https://github.com/philhoonoh/blog_git/blob/main/comp_models_1.ipynb\"><img src=\"https://www.tensorflow.org/images/GitHub-Mark-32px.png\" />View Source</a>\n",
    "  </td>\n",
    "</table>"
   ]
  },
  {
   "cell_type": "markdown",
   "id": "1040efc7",
   "metadata": {},
   "source": [
    "# PyTorch Model - timm library, torchvision.models part1)\n",
    "  \n",
    "> Basic usage of timm and torchvision.model libraries"
   ]
  },
  {
   "cell_type": "code",
   "execution_count": 1,
   "id": "fc909392",
   "metadata": {},
   "outputs": [],
   "source": [
    "import torch\n",
    "import torch.nn as nn\n",
    "import torch.nn.functional as F\n",
    "import timm\n",
    "from torchvision import models"
   ]
  },
  {
   "cell_type": "markdown",
   "id": "9c7cf207",
   "metadata": {},
   "source": [
    "## Timm Library"
   ]
  },
  {
   "cell_type": "markdown",
   "id": "e32adb51",
   "metadata": {},
   "source": [
    "#### Select Model\n",
    "```python\n",
    "timm.list_models('model name or regular exp', pretrained = True)\n",
    "```"
   ]
  },
  {
   "cell_type": "code",
   "execution_count": 2,
   "id": "19852a33",
   "metadata": {},
   "outputs": [
    {
     "data": {
      "text/plain": [
       "['convnext_base',\n",
       " 'convnext_base_384_in22ft1k',\n",
       " 'convnext_base_in22ft1k',\n",
       " 'convnext_base_in22k',\n",
       " 'convnext_large',\n",
       " 'convnext_large_384_in22ft1k',\n",
       " 'convnext_large_in22ft1k',\n",
       " 'convnext_large_in22k',\n",
       " 'convnext_small',\n",
       " 'convnext_tiny',\n",
       " 'convnext_xlarge_384_in22ft1k',\n",
       " 'convnext_xlarge_in22ft1k',\n",
       " 'convnext_xlarge_in22k']"
      ]
     },
     "execution_count": 2,
     "metadata": {},
     "output_type": "execute_result"
    }
   ],
   "source": [
    "all_densenet_models = timm.list_models('*convnext*', pretrained = True)\n",
    "all_densenet_models"
   ]
  },
  {
   "cell_type": "markdown",
   "id": "553e1092",
   "metadata": {},
   "source": [
    "#### Check Model Architecture\n",
    "\n",
    "```python\n",
    "model = timm.create_model('convnext_small', pretrained=True)\n",
    "print(model)\n",
    "```"
   ]
  },
  {
   "cell_type": "code",
   "execution_count": 3,
   "id": "529d5a24",
   "metadata": {
    "scrolled": false
   },
   "outputs": [],
   "source": [
    "model = timm.create_model('convnext_small', pretrained=True)\n",
    "# print(model)"
   ]
  },
  {
   "cell_type": "markdown",
   "id": "e95cfee4",
   "metadata": {},
   "source": [
    "#### Change the last layer of the Model\n",
    "```python\n",
    "model = timm.create_model('convnext_small', pretrained=True, num_classes = 100)\n",
    "```"
   ]
  },
  {
   "cell_type": "code",
   "execution_count": 4,
   "id": "3a5adfd6",
   "metadata": {},
   "outputs": [],
   "source": [
    "model = timm.create_model('convnext_small', pretrained=True, num_classes = 100)\n",
    "# print(model2)"
   ]
  },
  {
   "cell_type": "markdown",
   "id": "54ebe054",
   "metadata": {},
   "source": [
    "####  Testing \n",
    "\n",
    "```python\n",
    "model = timm.create_model('convnext_small', pretrained=True, num_classes = 100)\n",
    "model.eval()\n",
    "result = model(torch.randn(1,3,224,224))\n",
    "print(result)\n",
    "print(result.shape)\n",
    "```"
   ]
  },
  {
   "cell_type": "code",
   "execution_count": 5,
   "id": "d289eab9",
   "metadata": {},
   "outputs": [
    {
     "name": "stdout",
     "output_type": "stream",
     "text": [
      "tensor([[-0.0158,  0.1046,  0.0368, -0.0476,  0.0025, -0.0348, -0.0098,  0.0188,\n",
      "          0.0295,  0.0457,  0.0469,  0.0639, -0.0396, -0.0117, -0.0285, -0.0227,\n",
      "          0.0458, -0.0168, -0.0154, -0.0092,  0.0503, -0.0025, -0.0331,  0.0323,\n",
      "         -0.0633, -0.0273,  0.0145, -0.1236, -0.0766,  0.0006,  0.0107,  0.0774,\n",
      "          0.0476, -0.0875, -0.0372,  0.1161, -0.0769, -0.0529,  0.0034, -0.0750,\n",
      "         -0.0091,  0.0050, -0.0225, -0.0374,  0.0078, -0.0454,  0.0190,  0.0216,\n",
      "         -0.0353,  0.0156, -0.0068, -0.0046,  0.0382, -0.0386,  0.0546,  0.1143,\n",
      "         -0.1125,  0.0425, -0.0689,  0.0880, -0.0387,  0.0296,  0.0119, -0.0203,\n",
      "         -0.0192,  0.0312, -0.0255,  0.0025,  0.0131, -0.0624, -0.0700, -0.0135,\n",
      "         -0.0142,  0.0672,  0.0155, -0.0372, -0.0647,  0.0303,  0.0476, -0.0135,\n",
      "          0.0137, -0.0134, -0.0938,  0.0759, -0.0036, -0.0033,  0.0143,  0.0158,\n",
      "          0.0498, -0.0079, -0.0516, -0.0229,  0.0904, -0.0091,  0.0702, -0.0282,\n",
      "          0.0008, -0.0302, -0.0304, -0.0343]], grad_fn=<AddmmBackward0>)\n",
      "torch.Size([1, 100])\n"
     ]
    }
   ],
   "source": [
    "model = timm.create_model('convnext_small', pretrained=True, num_classes = 100)\n",
    "model.eval()\n",
    "result = model(torch.randn(1,3,224,224))\n",
    "print(result)\n",
    "print(result.shape)"
   ]
  },
  {
   "cell_type": "markdown",
   "id": "dfd49121",
   "metadata": {},
   "source": [
    "#### Custom Model using convnext_small\n",
    "\n",
    "> Implementing Custom Model for ThreeWayStratifiedDataset described in [https://psyduck5.tistory.com/10]  \n",
    "> Attempt1. Sharing pretraine embeddings but constructing differnet layers for each labels (age, mask, gender)  \n",
    "> Attempt2. For Generalization, applying dropout layers  "
   ]
  },
  {
   "cell_type": "code",
   "execution_count": 6,
   "id": "e6c3d98e",
   "metadata": {},
   "outputs": [],
   "source": [
    "class ConvNextLSmallCustom(nn.Module):\n",
    "    def __init__(self):\n",
    "        super().__init__()\n",
    "        self.model = timm.create_model('convnext_small', pretrained=True, num_classes = 1536)\n",
    "        self.dropout = nn.Dropout(0.5)\n",
    "        self.dropouts = nn.ModuleList([\n",
    "                    nn.Dropout(0.5) for _ in range(5)])\n",
    "        self.age_layer = nn.Linear(in_features=1536, out_features=3, bias=True)\n",
    "        self.mask_layer = nn.Linear(in_features=1536, out_features=2, bias=True)\n",
    "        self.sex_layer = nn.Linear(in_features=1536, out_features=2, bias=True)\n",
    "    \n",
    "    def forward(self, x):\n",
    "        x = self.model(x)\n",
    "        x_ = self.dropout(x)\n",
    "        \n",
    "        for i, dropout in enumerate(self.dropouts):\n",
    "            if i==0:\n",
    "                x_age = self.age_layer(dropout(x_))\n",
    "                x_mask = self.mask_layer(dropout(x_))\n",
    "                x_sex = self.sex_layer(dropout(x_))\n",
    "            else:\n",
    "                x_age += self.age_layer(dropout(x_))\n",
    "                x_mask = self.mask_layer(dropout(x_))\n",
    "                x_sex = self.sex_layer(dropout(x_))\n",
    "        else:\n",
    "            x_age /= len(self.dropouts)\n",
    "            x_mask /= len(self.dropouts)\n",
    "            x_sex /= len(self.dropouts)\n",
    "        \n",
    "        return x_age, x_mask, x_sex"
   ]
  },
  {
   "cell_type": "markdown",
   "id": "f85ba258",
   "metadata": {},
   "source": [
    "## Torchvision models"
   ]
  },
  {
   "cell_type": "markdown",
   "id": "5d304e6a",
   "metadata": {},
   "source": [
    "#### Basic Template for Model\n",
    "\n",
    "> applicable any libraries based on pytorch\n",
    "\n",
    "```python\n",
    "class MyModel(nn.Module):\n",
    "    def __init__(self):\n",
    "        super().__init__()\n",
    "        pass\n",
    "\n",
    "    def forward(self, x):\n",
    "        pass\n",
    "```"
   ]
  },
  {
   "cell_type": "markdown",
   "id": "0cf63b61",
   "metadata": {},
   "source": [
    "#### Select Model\n",
    "\n",
    "> Check out the list of models on https://pytorch.org/vision/master/models.html"
   ]
  },
  {
   "cell_type": "markdown",
   "id": "cdfa21c3",
   "metadata": {},
   "source": [
    "#### Check Model Architecture\n",
    " \n",
    "```python\n",
    "model = models.densenet161(pretrained = True)\n",
    "print(model)\n",
    "```"
   ]
  },
  {
   "cell_type": "code",
   "execution_count": 7,
   "id": "e5f0b1ad",
   "metadata": {},
   "outputs": [],
   "source": [
    "model = models.densenet161(pretrained = True)\n",
    "# print(model)"
   ]
  },
  {
   "cell_type": "markdown",
   "id": "5c9c49b4",
   "metadata": {},
   "source": [
    "#### Change the last layer of the Model\n",
    "\n",
    "> Needs to manually check out the name of last layer : usually either 'fc' or 'classifier'  \n",
    "\n",
    "```python\n",
    "num_classes = 100\n",
    "model.classifier = nn.Linear(in_features = model.classifier.in_features,\n",
    "                                      out_features = num_classes, bias = True)\n",
    "print(model)\n",
    "```"
   ]
  },
  {
   "cell_type": "code",
   "execution_count": 8,
   "id": "a006b791",
   "metadata": {},
   "outputs": [],
   "source": [
    "num_classes = 100\n",
    "model.classifier = nn.Linear(in_features = model.classifier.in_features,\n",
    "                                      out_features = num_classes, bias = True)\n",
    "# print(model)"
   ]
  },
  {
   "cell_type": "markdown",
   "id": "bb24969d",
   "metadata": {},
   "source": [
    "####  Testing \n",
    "\n",
    "```python\n",
    "model = models.densenet161(pretrained = True))\n",
    "num_classes = 100\n",
    "model.classifier = nn.Linear(in_features = model.classifier.in_features,\n",
    "                                      out_features = num_classes, bias = True)\n",
    "model.eval()\n",
    "result = model(torch.randn(1,3,224,224))\n",
    "print(result)\n",
    "print(result.shape)\n",
    "```"
   ]
  },
  {
   "cell_type": "code",
   "execution_count": 9,
   "id": "4e8ed94f",
   "metadata": {},
   "outputs": [
    {
     "name": "stdout",
     "output_type": "stream",
     "text": [
      "tensor([[-0.2660,  0.4000,  0.0566,  0.7332,  0.0120,  0.0402,  0.0670, -1.0042,\n",
      "          0.3829, -0.0477, -0.4843, -0.0874,  0.0382, -0.2041,  0.5817,  0.1364,\n",
      "          0.3040, -0.5408, -0.2544,  0.2450, -0.0206,  0.6274,  0.2964,  0.4478,\n",
      "         -0.3061,  0.0265,  0.2741,  0.2010, -0.2461, -0.2156,  0.4659, -0.0693,\n",
      "          0.0226, -0.3524,  0.8735,  0.0297, -0.2518, -0.0303, -0.7970, -0.3719,\n",
      "          0.1582,  0.3348, -0.1031,  0.4719, -0.4797, -0.7944,  0.3459,  0.5960,\n",
      "         -0.0273,  0.3393,  0.2273, -0.6286, -0.2468, -0.0935, -0.0861,  0.3848,\n",
      "         -0.4297,  0.2101, -0.7249,  0.3109,  0.2408,  0.1554, -0.3098, -0.1568,\n",
      "         -0.2809, -0.5357,  0.0345,  0.0989, -0.4031, -0.0775, -0.6316,  0.7590,\n",
      "          0.0898,  0.0369, -0.3507, -0.6202,  0.9339, -0.0096, -0.6873, -0.2853,\n",
      "          0.4350, -0.4197,  0.3255,  0.1393,  0.3737,  0.2953, -0.1338, -0.5609,\n",
      "          0.2145,  0.8751, -0.7551,  0.7100, -0.1903, -0.2114,  0.3616,  0.3200,\n",
      "         -0.5430, -0.3831, -0.1368, -0.1153]], grad_fn=<AddmmBackward0>)\n",
      "torch.Size([1, 100])\n"
     ]
    }
   ],
   "source": [
    "model = models.densenet161(pretrained = True)\n",
    "num_classes = 100\n",
    "model.classifier = nn.Linear(in_features = model.classifier.in_features,\n",
    "                                      out_features = num_classes, bias = True)\n",
    "model.eval()\n",
    "result = model(torch.randn(1,3,224,224))\n",
    "print(result)\n",
    "print(result.shape)"
   ]
  },
  {
   "cell_type": "markdown",
   "id": "305a8887",
   "metadata": {},
   "source": [
    "#### Initialzing with functions \n",
    "\n",
    "> Implementing user-defined functions for changing the last layer and initializing weights  \n",
    "> Attempt1. Define a function to automatically finds out the last layer of the model and change the out_features  \n",
    "> Attempt2. Define a function to initialzing wegihts to the modified layers.  \n",
    "> With these functions, anyone can easily contruct the custom model with different out_features just like timm library"
   ]
  },
  {
   "cell_type": "code",
   "execution_count": 11,
   "id": "8e526f20",
   "metadata": {},
   "outputs": [],
   "source": [
    "def initialize_weights(m):\n",
    "    if isinstance(m, nn.Linear):\n",
    "        nn.init.xavier_uniform_(m.weight)\n",
    "        nn.init.zeros_(m.bias)\n",
    "\n",
    "    if isinstance(m, nn.Conv2d):\n",
    "        nn.init.kaiming_uniform_(m.weight.data, nonlinearity='relu') \n",
    "    \n",
    "def change_last_layer(model, num_classes):\n",
    "    name_last_layer = list(model.named_modules())[-1][0]\n",
    "    \n",
    "    if name_last_layer == 'classifier':\n",
    "        model.classifier = nn.Linear(in_features = model.classifier.in_features,\n",
    "                                              out_features = num_classes, bias = True)\n",
    "        initialize_weights(model.classifier)\n",
    "        return model\n",
    "    \n",
    "    elif name_last_layer == 'fc':\n",
    "        model.fc = nn.Linear(in_features = model.fc.in_features,\n",
    "                                      out_features = num_classes, bias = True)\n",
    "        initialize_weights(model.fc)\n",
    "        return model\n",
    "    \n",
    "    else:\n",
    "        raise Exceptionception('last layer should be nn.Linear Module named as either fc or classifier')"
   ]
  },
  {
   "cell_type": "code",
   "execution_count": 12,
   "id": "ea64343f",
   "metadata": {},
   "outputs": [],
   "source": [
    "class DenseNet161(nn.Module):\n",
    "    def __init__(self, num_classes):\n",
    "        super(DenseNet161, self).__init__()\n",
    "        self.model = models.densenet161(pretrained = True)\n",
    "        self.model = change_last_layer(self.model, num_classes)\n",
    "    \n",
    "    def forward(self, x):\n",
    "        x = self.model(x)\n",
    "        return x"
   ]
  },
  {
   "cell_type": "code",
   "execution_count": 13,
   "id": "7c464594",
   "metadata": {},
   "outputs": [
    {
     "data": {
      "text/plain": [
       "tensor([[ 1.1248, -0.3958, -0.0994,  0.2717,  0.2535, -0.4034, -0.0367,  0.4897,\n",
       "          0.8369,  0.4912]], grad_fn=<AddmmBackward0>)"
      ]
     },
     "execution_count": 13,
     "metadata": {},
     "output_type": "execute_result"
    }
   ],
   "source": [
    "model = DenseNet161(10)\n",
    "model.eval()\n",
    "model(torch.randn(1,3,224,224))"
   ]
  }
 ],
 "metadata": {
  "kernelspec": {
   "display_name": "py38_transformers",
   "language": "python",
   "name": "py38"
  },
  "language_info": {
   "codemirror_mode": {
    "name": "ipython",
    "version": 3
   },
   "file_extension": ".py",
   "mimetype": "text/x-python",
   "name": "python",
   "nbconvert_exporter": "python",
   "pygments_lexer": "ipython3",
   "version": "3.8.12"
  }
 },
 "nbformat": 4,
 "nbformat_minor": 5
}
