{
 "cells": [
  {
   "cell_type": "code",
   "execution_count": 19,
   "id": "827f5aa4",
   "metadata": {},
   "outputs": [
    {
     "data": {
      "text/html": [
       "<style>.container { width:100% !important; }</style>"
      ],
      "text/plain": [
       "<IPython.core.display.HTML object>"
      ]
     },
     "metadata": {},
     "output_type": "display_data"
    }
   ],
   "source": [
    "from IPython.core.display import display, HTML\n",
    "\n",
    "display(HTML(\"<style>.container { width:100% !important; }</style>\"))"
   ]
  },
  {
   "cell_type": "markdown",
   "id": "aee3c9d3",
   "metadata": {},
   "source": [
    "<table class=\"tfo-notebook-buttons\" align=\"left\">\n",
    "  <td>\n",
    "    <a target=\"_blank\" href=\"https://github.com/philhoonoh/blog_git/blob/main/Binary%20Search%20Algorithm.ipynb\"><img src=\"https://www.tensorflow.org/images/GitHub-Mark-32px.png\" />View Source</a>\n",
    "  </td>\n",
    "</table>"
   ]
  },
  {
   "cell_type": "markdown",
   "id": "20ef3261",
   "metadata": {},
   "source": [
    "# MongoDB Docker Tutorial"
   ]
  },
  {
   "cell_type": "markdown",
   "id": "1b50ad66",
   "metadata": {},
   "source": [
    "## Objective\n",
    "- Docker를 활용한 MongoDB 실행\n",
    "- MongoDB Basics & Shell Command\n",
    "- PyMongo를 활용한 Python MongoDB Client 사용법"
   ]
  },
  {
   "cell_type": "markdown",
   "id": "ceb137df",
   "metadata": {},
   "source": [
    "## 1. Docker를 활용한 MongoDB 실행\n",
    "- https://poiemaweb.com/docker-mongodb\n",
    "- https://www.bmc.com/blogs/mongodb-docker-container/"
   ]
  },
  {
   "cell_type": "markdown",
   "id": "10cdea0d",
   "metadata": {},
   "source": [
    "```bash\n",
    "# MongoDB image 다운로드\n",
    "$ docker pull mongo\n",
    "\n",
    "# MongoDB image 확인\n",
    "$ docker images\n",
    "\n",
    "# MongoDB Container 구동\n",
    "$ docker run --name mongodb-container -v ~/data_db:/data/db -d -p 27017:27017 mongo\n",
    "\n",
    "# MongoDB Docker 컨테이너 중지\n",
    "$ docker stop mongodb-container\n",
    "\n",
    "# MongoDB Docker 컨테이너 시작\n",
    "$ docker start mongodb-container\n",
    "\n",
    "# MongoDB Docker 컨테이너 재시작\n",
    "$ docker restart mongodb-container\n",
    "\n",
    "# MongoDB Docker 컨테이너 접속\n",
    "$ docker exec -it mongodb-container bash\n",
    "```"
   ]
  },
  {
   "cell_type": "markdown",
   "id": "9431742d",
   "metadata": {},
   "source": [
    "## 2. MongDB Basics & Shell Commands "
   ]
  },
  {
   "cell_type": "markdown",
   "id": "641766fe",
   "metadata": {},
   "source": [
    "### 2-1. MongoDB Basics\n",
    "- MongoDB 구조 : Database > Collections > Documents\n",
    "    - Database\n",
    "        - MongoDB에서 Database는 documents들의 collections으로 구성되어 있으며, 여러개의 databases 생성할 수 있습니다. \n",
    "    - Collections\n",
    "        - Collections 는 RDB의 tables과 같으며 documents 형태로 데이터를 저장합니다. 하나의 database는 여러개의 collections을 저장할 수 있습니다.\n",
    "    - Documetns\n",
    "        - MongoDB 에서 데이터 레코들들이 BSON documents의 형태로 저장됩니다. BSON 은 binary representation of JSON documents의 약자이며 JSON에 비해 더 많은 데이터 타입을 포함합니다. document는 field-value 혹은 key-value 형태로 만들어지며 이때 value은 아무 BSON 타입이 될 수 있습니다. \n",
    "    \n",
    "- Schemaless:\n",
    "    - MongoDB databases 스키마가 없습니다. 그러므로 collection내에서 하나의 document의 스키마와 다른 document의 스키마가 일치할 필요가 없습니다. 하나의 collection 내에서 다양한 형태의 documents를 포함하니다. \n",
    "    \n",
    "* https://www.geeksforgeeks.org/mongodb-database-collection-and-document/"
   ]
  },
  {
   "cell_type": "markdown",
   "id": "1ac1c91f",
   "metadata": {},
   "source": [
    "### 2-2. MongoDB Shell Commands\n",
    "```bash\n",
    "# Docker Container 에서 mongo db 접속\n",
    "mongo \n",
    "\n",
    "# mongodb database 확인\n",
    "show dbs\n",
    "\n",
    "# test database 생성 및 전환 (실제 생성 시점은 database에 content가 추가될때) \n",
    "use test\n",
    "\n",
    "# test database에서 'col' collection 생성 및 document 저장 \n",
    "db.col.insertOne({\"hello\" : ['hi','sad','happy'], '_id' : '0'})\n",
    "db.col.insertOne({\"hello\" : ['hi','sad','happy','for real?'], '_id' : '1'})\n",
    "\n",
    "# document 확인 \n",
    "db.col.find();\n",
    "\n",
    "# id 로 찾기 \n",
    "db.col.find({'_id' : \"0\"})\n",
    "db.col.find({'_id' : \"1\"})\n",
    "```"
   ]
  },
  {
   "cell_type": "markdown",
   "id": "cbb97791",
   "metadata": {},
   "source": [
    "## 3. PyMongo를 활용한 Python MongoDB Client 사용법"
   ]
  },
  {
   "cell_type": "markdown",
   "id": "bbb540d6",
   "metadata": {},
   "source": [
    "### 3-1. PyMongo 설치\n",
    "```bash\n",
    "$ pip install pymongo\n",
    "```"
   ]
  },
  {
   "cell_type": "markdown",
   "id": "0a427613",
   "metadata": {},
   "source": [
    "### 3-2. Python MongoDB Client 실행\n",
    "\n",
    "```python\n",
    "from pymongo import MongoClient\n",
    "\n",
    "# 방법1 - URI\n",
    "mongodb_URI = \"mongodb://localhost:27017/\"\n",
    "client = MongoClient(mongodb_URI)\n",
    "\n",
    "# 방법2 - HOST, PORT\n",
    "client = MongoClient(host='localhost', port=27017)\n",
    "```"
   ]
  },
  {
   "cell_type": "markdown",
   "id": "0f17b2a2",
   "metadata": {},
   "source": [
    "### 3-2. Python MongoDB Client api "
   ]
  },
  {
   "cell_type": "code",
   "execution_count": 1,
   "id": "f43b93db",
   "metadata": {},
   "outputs": [],
   "source": [
    "from pymongo import MongoClient\n",
    "client = MongoClient(host='localhost', port=27017)"
   ]
  },
  {
   "cell_type": "code",
   "execution_count": 2,
   "id": "bb7b77b7",
   "metadata": {},
   "outputs": [
    {
     "name": "stdout",
     "output_type": "stream",
     "text": [
      "{'name': 'admin', 'sizeOnDisk': 40960, 'empty': False}\n",
      "{'name': 'config', 'sizeOnDisk': 110592, 'empty': False}\n",
      "{'name': 'local', 'sizeOnDisk': 73728, 'empty': False}\n",
      "{'name': 'test', 'sizeOnDisk': 8192, 'empty': False}\n"
     ]
    }
   ],
   "source": [
    "# MongoDB Database 확인\n",
    "for db in client.list_databases():\n",
    "    print(db)"
   ]
  },
  {
   "cell_type": "markdown",
   "id": "67a45f83",
   "metadata": {},
   "source": [
    "#### Database & Collection 생성 및 삭제"
   ]
  },
  {
   "cell_type": "code",
   "execution_count": 3,
   "id": "7ee13efd",
   "metadata": {},
   "outputs": [],
   "source": [
    "# MongoDB Database 생성\n",
    "\n",
    "# 실제 database 생성 시점은 data가 database에 존재해야함\n",
    "db = client[\"database2\"]\n",
    "\n",
    "# collection 생성\n",
    "col = db[\"collection1\"]\n",
    "\n",
    "# document 생성\n",
    "doc = {\"hello\" : \"world\", \"hi\" : \"world\"}\n",
    "\n",
    "# document mongodb \n",
    "x = col.insert_one(doc)"
   ]
  },
  {
   "cell_type": "code",
   "execution_count": 4,
   "id": "f6a37b46",
   "metadata": {},
   "outputs": [
    {
     "name": "stdout",
     "output_type": "stream",
     "text": [
      "{'name': 'admin', 'sizeOnDisk': 40960, 'empty': False}\n",
      "{'name': 'config', 'sizeOnDisk': 110592, 'empty': False}\n",
      "{'name': 'database2', 'sizeOnDisk': 8192, 'empty': False}\n",
      "{'name': 'local', 'sizeOnDisk': 73728, 'empty': False}\n",
      "{'name': 'test', 'sizeOnDisk': 8192, 'empty': False}\n"
     ]
    }
   ],
   "source": [
    "# \"database2\" DB 생성 확인\n",
    "for db in client.list_databases():\n",
    "    print(db)"
   ]
  },
  {
   "cell_type": "code",
   "execution_count": 5,
   "id": "17f21ba7",
   "metadata": {
    "scrolled": true
   },
   "outputs": [
    {
     "name": "stdout",
     "output_type": "stream",
     "text": [
      "List of databases before deletion\n",
      "--------------------------\n",
      "admin\n",
      "config\n",
      "database2\n",
      "local\n",
      "test\n",
      "\n",
      "List of databases after deletion\n",
      "--------------------------\n",
      "admin\n",
      "config\n",
      "local\n",
      "test\n"
     ]
    }
   ],
   "source": [
    "# MongoDB 'database2' Database 삭제\n",
    "\n",
    "print(\"List of databases before deletion\\n--------------------------\")\n",
    "for x in client.list_database_names():\n",
    "  print(x)\n",
    "  \n",
    "#delete database named 'test'\n",
    "client.drop_database('database2')\n",
    "\n",
    "print(\"\\nList of databases after deletion\\n--------------------------\")\n",
    "for x in client.list_database_names():\n",
    "  print(x)\n"
   ]
  },
  {
   "cell_type": "code",
   "execution_count": 6,
   "id": "4b7b29b2",
   "metadata": {},
   "outputs": [
    {
     "name": "stdout",
     "output_type": "stream",
     "text": [
      "List of collections\n",
      "--------------------\n",
      "col\n"
     ]
    }
   ],
   "source": [
    "# MongoDB 'test' Database Collection 확인\n",
    "mydb = client['test']\n",
    "\n",
    "print(\"List of collections\\n--------------------\")\n",
    "\n",
    "#list the collections\n",
    "for coll in mydb.list_collection_names():\n",
    "    print(coll)"
   ]
  },
  {
   "cell_type": "code",
   "execution_count": 7,
   "id": "e6ff41a3",
   "metadata": {},
   "outputs": [
    {
     "data": {
      "text/plain": [
       "<pymongo.results.InsertOneResult at 0x7fec73589af0>"
      ]
     },
     "execution_count": 7,
     "metadata": {},
     "output_type": "execute_result"
    }
   ],
   "source": [
    "# MongoDB 'test' Database 'col2' Collection 추가\n",
    "mydb = client['test']\n",
    "col2 = mydb['col2']\n",
    "doc2 = {\"hello\" : ['hi','sad','happy','for real?'], '_id' : '0', 'hihi' : 'real'}\n",
    "col2.insert_one(doc2)"
   ]
  },
  {
   "cell_type": "code",
   "execution_count": 8,
   "id": "58193a02",
   "metadata": {},
   "outputs": [
    {
     "name": "stdout",
     "output_type": "stream",
     "text": [
      "List of collections\n",
      "--------------------\n",
      "col2\n",
      "col\n"
     ]
    }
   ],
   "source": [
    "print(\"List of collections\\n--------------------\")\n",
    "for coll in mydb.list_collection_names():\n",
    "    print(coll)"
   ]
  },
  {
   "cell_type": "code",
   "execution_count": 9,
   "id": "93feb4a2",
   "metadata": {},
   "outputs": [
    {
     "name": "stdout",
     "output_type": "stream",
     "text": [
      "List of collections before deletion\n",
      "--------------------------\n",
      "col2\n",
      "col\n",
      "\n",
      "List of collections after deletion\n",
      "--------------------------\n",
      "col\n"
     ]
    }
   ],
   "source": [
    "# MongoDB 'test' Database 'col2' Collection 삭제 \n",
    "print(\"List of collections before deletion\\n--------------------------\")\n",
    "for x in mydb.list_collection_names():\n",
    "  print(x)\n",
    "  \n",
    "#get collection named \"developers\"\n",
    "mycol = mydb[\"col2\"]\n",
    "  \n",
    "#delete or drop collection\n",
    "mycol.drop()\n",
    "\n",
    "print(\"\\nList of collections after deletion\\n--------------------------\")\n",
    "for x in mydb.list_collection_names():\n",
    "  print(x)"
   ]
  },
  {
   "cell_type": "markdown",
   "id": "bb60792b",
   "metadata": {},
   "source": [
    "####  Document 생성 (Single/Multi)"
   ]
  },
  {
   "cell_type": "code",
   "execution_count": 10,
   "id": "6c863a41",
   "metadata": {},
   "outputs": [
    {
     "data": {
      "text/plain": [
       "<pymongo.results.InsertOneResult at 0x7fec735aabe0>"
      ]
     },
     "execution_count": 10,
     "metadata": {},
     "output_type": "execute_result"
    }
   ],
   "source": [
    "# \"test\" Database - \"col\" collection - update single document \n",
    "test_col = client['test']['col']\n",
    "document = { \"name\": \"Kiku\", \"address\": \"Germany\" }\n",
    "test_col.insert_one(document)"
   ]
  },
  {
   "cell_type": "code",
   "execution_count": 11,
   "id": "657bbda5",
   "metadata": {},
   "outputs": [
    {
     "name": "stdout",
     "output_type": "stream",
     "text": [
      "{'_id': '0', 'hello': ['hi', 'sad', 'happy']}\n",
      "{'_id': '1', 'hello': ['hi', 'sad', 'happy', 'for real?']}\n",
      "{'_id': ObjectId('62b3de7f676c0c68074434d8'), 'name': 'Kiku', 'address': 'Germany'}\n"
     ]
    }
   ],
   "source": [
    "# print all the documents in the collection\n",
    "for x in test_col.find():\n",
    "  print(x)"
   ]
  },
  {
   "cell_type": "code",
   "execution_count": 12,
   "id": "f87bf983",
   "metadata": {},
   "outputs": [
    {
     "name": "stdout",
     "output_type": "stream",
     "text": [
      "{'_id': '1', 'hello': ['hi', 'sad', 'happy', 'for real?']}\n"
     ]
    }
   ],
   "source": [
    "# find document by _id\n",
    "result = test_col.find({'_id' : '1'})\n",
    "for doc in result:\n",
    "    print(doc)"
   ]
  },
  {
   "cell_type": "code",
   "execution_count": 13,
   "id": "8be42111",
   "metadata": {},
   "outputs": [
    {
     "name": "stdout",
     "output_type": "stream",
     "text": [
      "ids of inserted documents\n",
      "---------------------\n",
      "62b3de87676c0c68074434d9\n",
      "62b3de87676c0c68074434da\n",
      "62b3de87676c0c68074434db\n",
      "62b3de87676c0c68074434dc\n",
      "62b3de87676c0c68074434dd\n"
     ]
    }
   ],
   "source": [
    "# Update multiple Document\n",
    "#list of documents\n",
    "arr = [{ \"name\": \"Kiku\", \"address\": \"Germany\" },\n",
    "\t\t{ \"name\": \"Lini\", \"address\": \"Sweden\" },\n",
    "\t\t{ \"name\": \"Sree\", \"address\": \"India\" },\n",
    "\t\t{ \"name\": \"Raghu\", \"address\": \"India\" },\n",
    "\t\t{ \"name\": \"Mams\", \"address\": \"France\" }]\n",
    "\n",
    "#insert multiple documents\n",
    "x = test_col.insert_many(arr)\n",
    "\n",
    "print('ids of inserted documents\\n---------------------')\n",
    "for id in x.inserted_ids:\n",
    "\tprint(id)"
   ]
  },
  {
   "cell_type": "code",
   "execution_count": 14,
   "id": "83f3d75c",
   "metadata": {},
   "outputs": [
    {
     "name": "stdout",
     "output_type": "stream",
     "text": [
      "{'_id': '0', 'hello': ['hi', 'sad', 'happy']}\n",
      "{'_id': '1', 'hello': ['hi', 'sad', 'happy', 'for real?']}\n",
      "{'_id': ObjectId('62b3de7f676c0c68074434d8'), 'name': 'Kiku', 'address': 'Germany'}\n",
      "{'_id': ObjectId('62b3de87676c0c68074434d9'), 'name': 'Kiku', 'address': 'Germany'}\n",
      "{'_id': ObjectId('62b3de87676c0c68074434da'), 'name': 'Lini', 'address': 'Sweden'}\n",
      "{'_id': ObjectId('62b3de87676c0c68074434db'), 'name': 'Sree', 'address': 'India'}\n",
      "{'_id': ObjectId('62b3de87676c0c68074434dc'), 'name': 'Raghu', 'address': 'India'}\n",
      "{'_id': ObjectId('62b3de87676c0c68074434dd'), 'name': 'Mams', 'address': 'France'}\n"
     ]
    }
   ],
   "source": [
    "# print all the documents in the collection\n",
    "for x in test_col.find():\n",
    "  print(x)"
   ]
  },
  {
   "cell_type": "markdown",
   "id": "c8128f91",
   "metadata": {},
   "source": [
    "####  Document 삭제 (Single/Multi)"
   ]
  },
  {
   "cell_type": "code",
   "execution_count": 16,
   "id": "ced87677",
   "metadata": {},
   "outputs": [],
   "source": [
    "from bson.objectid import ObjectId "
   ]
  },
  {
   "cell_type": "code",
   "execution_count": 17,
   "id": "2672d2eb",
   "metadata": {},
   "outputs": [
    {
     "name": "stdout",
     "output_type": "stream",
     "text": [
      "Documents in Collection\n",
      "-----------------------\n",
      "{'_id': '0', 'hello': ['hi', 'sad', 'happy']}\n",
      "{'_id': '1', 'hello': ['hi', 'sad', 'happy', 'for real?']}\n",
      "{'_id': ObjectId('62b3de7f676c0c68074434d8'), 'name': 'Kiku', 'address': 'Germany'}\n",
      "{'_id': ObjectId('62b3de87676c0c68074434d9'), 'name': 'Kiku', 'address': 'Germany'}\n",
      "{'_id': ObjectId('62b3de87676c0c68074434da'), 'name': 'Lini', 'address': 'Sweden'}\n",
      "{'_id': ObjectId('62b3de87676c0c68074434db'), 'name': 'Sree', 'address': 'India'}\n",
      "{'_id': ObjectId('62b3de87676c0c68074434dc'), 'name': 'Raghu', 'address': 'India'}\n",
      "{'_id': ObjectId('62b3de87676c0c68074434dd'), 'name': 'Mams', 'address': 'France'}\n",
      "\n",
      "Documents in Collection after delete_one()\n",
      "-----------------------\n",
      "{'_id': '0', 'hello': ['hi', 'sad', 'happy']}\n",
      "{'_id': '1', 'hello': ['hi', 'sad', 'happy', 'for real?']}\n",
      "{'_id': ObjectId('62b3de7f676c0c68074434d8'), 'name': 'Kiku', 'address': 'Germany'}\n",
      "{'_id': ObjectId('62b3de87676c0c68074434d9'), 'name': 'Kiku', 'address': 'Germany'}\n",
      "{'_id': ObjectId('62b3de87676c0c68074434da'), 'name': 'Lini', 'address': 'Sweden'}\n",
      "{'_id': ObjectId('62b3de87676c0c68074434db'), 'name': 'Sree', 'address': 'India'}\n",
      "{'_id': ObjectId('62b3de87676c0c68074434dc'), 'name': 'Raghu', 'address': 'India'}\n"
     ]
    }
   ],
   "source": [
    "# \"test\" Database - \"col\" collection - delete single document \n",
    "test_col = client['test']['col']\n",
    "\n",
    "print('Documents in Collection\\n-----------------------')\n",
    "for doc in test_col.find():\n",
    "    print(doc)\n",
    "    \n",
    "# delete '_id': ObjectId('62b3de87676c0c68074434dd')\n",
    "query = {'_id' : ObjectId('62b3de87676c0c68074434dd')}\n",
    "test_col.delete_one(query)\n",
    "                          \n",
    "print('\\nDocuments in Collection after delete_one()\\n-----------------------')\n",
    "for doc in test_col.find():\n",
    "    print(doc)\n",
    "                          "
   ]
  },
  {
   "cell_type": "code",
   "execution_count": 18,
   "id": "ad8d906b",
   "metadata": {},
   "outputs": [
    {
     "name": "stdout",
     "output_type": "stream",
     "text": [
      "Documents in Collection\n",
      "-----------------------\n",
      "{'_id': '0', 'hello': ['hi', 'sad', 'happy']}\n",
      "{'_id': '1', 'hello': ['hi', 'sad', 'happy', 'for real?']}\n",
      "{'_id': ObjectId('62b3de7f676c0c68074434d8'), 'name': 'Kiku', 'address': 'Germany'}\n",
      "{'_id': ObjectId('62b3de87676c0c68074434d9'), 'name': 'Kiku', 'address': 'Germany'}\n",
      "{'_id': ObjectId('62b3de87676c0c68074434da'), 'name': 'Lini', 'address': 'Sweden'}\n",
      "{'_id': ObjectId('62b3de87676c0c68074434db'), 'name': 'Sree', 'address': 'India'}\n",
      "{'_id': ObjectId('62b3de87676c0c68074434dc'), 'name': 'Raghu', 'address': 'India'}\n",
      "\n",
      "Documents in Collection after delete_many\t()\n",
      "-----------------------\n",
      "{'_id': '0', 'hello': ['hi', 'sad', 'happy']}\n",
      "{'_id': '1', 'hello': ['hi', 'sad', 'happy', 'for real?']}\n",
      "{'_id': ObjectId('62b3de7f676c0c68074434d8'), 'name': 'Kiku', 'address': 'Germany'}\n",
      "{'_id': ObjectId('62b3de87676c0c68074434d9'), 'name': 'Kiku', 'address': 'Germany'}\n",
      "{'_id': ObjectId('62b3de87676c0c68074434da'), 'name': 'Lini', 'address': 'Sweden'}\n"
     ]
    }
   ],
   "source": [
    "# \"test\" Database - \"col\" collection - delete multiple document \n",
    "print('Documents in Collection\\n-----------------------')\n",
    "for doc in test_col.find():\n",
    "    print(doc)\n",
    "\n",
    "# query to delete document\n",
    "query = {'address':'India'}\n",
    "\n",
    "#delete many document\n",
    "test_col.delete_many(query)\n",
    "\n",
    "print('\\nDocuments in Collection after delete_many\t()\\n-----------------------')\n",
    "for doc in test_col.find():\n",
    "    print(doc)"
   ]
  }
 ],
 "metadata": {
  "kernelspec": {
   "display_name": "mongodb",
   "language": "python",
   "name": "mongodo"
  },
  "language_info": {
   "codemirror_mode": {
    "name": "ipython",
    "version": 3
   },
   "file_extension": ".py",
   "mimetype": "text/x-python",
   "name": "python",
   "nbconvert_exporter": "python",
   "pygments_lexer": "ipython3",
   "version": "3.8.12"
  }
 },
 "nbformat": 4,
 "nbformat_minor": 5
}
