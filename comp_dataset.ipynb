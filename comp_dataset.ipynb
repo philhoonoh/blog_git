{
 "cells": [
  {
   "cell_type": "code",
   "execution_count": 2,
   "id": "4490be7a",
   "metadata": {},
   "outputs": [
    {
     "data": {
      "text/html": [
       "<style>.container { width:130% !important; }</style>"
      ],
      "text/plain": [
       "<IPython.core.display.HTML object>"
      ]
     },
     "metadata": {},
     "output_type": "display_data"
    }
   ],
   "source": [
    "from IPython.core.display import display, HTML\n",
    "\n",
    "display(HTML(\"<style>.container { width:140% !important; }</style>\"))"
   ]
  },
  {
   "cell_type": "markdown",
   "id": "b79b1e8c",
   "metadata": {},
   "source": [
    "<table class=\"tfo-notebook-buttons\" align=\"left\">\n",
    "  <td>\n",
    "    <a target=\"_blank\" href=\"https://github.com/philhoonoh/blog_git/blob/main/comp_dataset.ipynb\"><img src=\"https://www.tensorflow.org/images/GitHub-Mark-32px.png\" />View Source</a>\n",
    "  </td>\n",
    "</table>"
   ]
  },
  {
   "cell_type": "markdown",
   "id": "4e131289",
   "metadata": {},
   "source": [
    "# PyTorch Dataset 심화 part1)\n",
    "\n",
    "> 앞서 배운 Pytorch Dataset 의 예시코드를 분석합니다.   \n",
    "> 해당 코드는 [https://boostcamp.connect.or.kr/] 에서 참조했음을 알려드립니다. "
   ]
  },
  {
   "cell_type": "markdown",
   "id": "78d9755d",
   "metadata": {},
   "source": [
    "### data 설명\n",
    "> age, gender, mask 을 구별하는 모델이 대한 Dataset Class 입니다.  \n",
    "> age, gender, mask 의 클래스는 각각 3, 2, 3 개 입니다.  \n"
   ]
  },
  {
   "cell_type": "code",
   "execution_count": 11,
   "id": "b05616ac",
   "metadata": {},
   "outputs": [],
   "source": [
    "import os \n",
    "import random\n",
    "from collections import defaultdict\n",
    "from typing import Tuple, List\n",
    "\n",
    "from enum import Enum\n",
    "\n",
    "from PIL import Image\n",
    "from torch.utils.data import Dataset, Subset, random_split\n",
    "from torchvision import transforms\n",
    "from torchvision.transforms import *\n",
    "import numpy as np\n",
    "\n",
    "IMG_EXTENSIONS = [\n",
    "    \".jpg\", \".JPG\", \".jpeg\", \".JPEG\", \".png\",\n",
    "    \".PNG\", \".ppm\", \".PPM\", \".bmp\", \".BMP\",\n",
    "]"
   ]
  },
  {
   "cell_type": "code",
   "execution_count": 12,
   "id": "e875bf3c",
   "metadata": {},
   "outputs": [],
   "source": [
    "def is_image_file(filename):\n",
    "    return any(filename.endswith(extension) for extension in IMG_EXTENSIONS)"
   ]
  },
  {
   "cell_type": "markdown",
   "id": "1a7e1b0d",
   "metadata": {},
   "source": [
    "### torchvision.transforms\n",
    "> BaseAugmentation : data augmentation 을 위한 transforms.Compose 를 Class로 구현되 있습니다.   \n",
    "> Add Gaussian 에서 볼수 있듯이 직접 transorm 에 사용할 수 있는 Class 를 구현이 가능합니다!! "
   ]
  },
  {
   "cell_type": "code",
   "execution_count": 15,
   "id": "ec4156a4",
   "metadata": {},
   "outputs": [],
   "source": [
    "class BaseAugmentation:\n",
    "    def __init__(self, resize, mean, std, **args):\n",
    "        self.transform = transforms.Compose([\n",
    "            Resize(resize, Image.BILINEAR),\n",
    "            ToTensor(),\n",
    "            Normalize(mean=mean, std=std),\n",
    "        ])\n",
    "\n",
    "    def __call__(self, image):\n",
    "        return self.transform(image)"
   ]
  },
  {
   "cell_type": "code",
   "execution_count": 16,
   "id": "da911e9b",
   "metadata": {},
   "outputs": [],
   "source": [
    "class AddGaussianNoise(object):\n",
    "    \"\"\"\n",
    "        transform 에 없는 기능들은 이런식으로 __init__, __call__, __repr__ 부분을\n",
    "        직접 구현하여 사용할 수 있습니다.\n",
    "    \"\"\"\n",
    "\n",
    "    def __init__(self, mean=0., std=1.):\n",
    "        self.std = std\n",
    "        self.mean = mean\n",
    "\n",
    "    def __call__(self, tensor):\n",
    "        return tensor + torch.randn(tensor.size()) * self.std + self.mean\n",
    "\n",
    "    def __repr__(self):\n",
    "        return self.__class__.__name__ + '(mean={0}, std={1})'.format(self.mean, self.std)"
   ]
  },
  {
   "cell_type": "markdown",
   "id": "735f2155",
   "metadata": {},
   "source": [
    "> CustomAugmentation : data augmentation 을 위한 transforms.Compose 를 Class로 구현되 있습니다. "
   ]
  },
  {
   "cell_type": "code",
   "execution_count": 19,
   "id": "acc6cfa2",
   "metadata": {},
   "outputs": [],
   "source": [
    "class CustomAugmentation:\n",
    "    def __init__(self, resize, mean, std, **args):\n",
    "        self.transform = transforms.Compose([\n",
    "            CenterCrop((320, 256)),\n",
    "            Resize(resize, Image.BILINEAR),\n",
    "            ColorJitter(0.1, 0.1, 0.1, 0.1),\n",
    "            ToTensor(),\n",
    "            Normalize(mean=mean, std=std),\n",
    "            AddGaussianNoise()\n",
    "        ])\n",
    "\n",
    "    def __call__(self, image):\n",
    "        return self.transform(image)"
   ]
  },
  {
   "cell_type": "markdown",
   "id": "3fee1c73",
   "metadata": {},
   "source": [
    "### enum.Enum Class \n",
    "> MaskLabels : enum.Enum Class로 구현되 있습니다.   \n",
    "> GenderLabels : enum.Enum Class로 구현되 있습니다.   \n",
    "> AgeLabels : enum.Enum Class로 구현되 있습니다.  \n",
    "\n",
    "> 처음에 여기까지 구현할 필요가 있어나 생각했으나, 뒤의 코드를 참고시 매우 잘 만들어진 클래스라는 것을 알수 있었습니다. "
   ]
  },
  {
   "cell_type": "markdown",
   "id": "785a9b60",
   "metadata": {},
   "source": [
    "#### enum.Enum Class Usuage\n",
    "- Enum is a class in python for creating enumerations, which are a set of symbolic names (members) bound to unique, constant values. The members of an enumeration can be compared by these symbolic anmes, and the enumeration itself can be iterated over. An enum has the following characteristics.\n",
    "    - The enums are evaluatable string representation of an object also called repr().  \n",
    "    - The name of the enum is displayed using ‘name’ keyword.  \n",
    "    - Using type() we can check the enum types.  "
   ]
  },
  {
   "cell_type": "markdown",
   "id": "7a8487ec",
   "metadata": {},
   "source": [
    "```python\n",
    "import enum\n",
    "# Using enum class create enumerations\n",
    "class Days(enum.Enum):\n",
    "   Sun = 1\n",
    "   Mon = 2\n",
    "   Tue = 3\n",
    "\n",
    "# print the enum member as a string\n",
    "print (\"The enum member as a string is : \",end=\"\")\n",
    "print (Days.Mon)\n",
    "\n",
    "# print the enum member as a repr\n",
    "print (\"he enum member as a repr is : \",end=\"\")\n",
    "print (repr(Days.Sun))\n",
    "\n",
    "# Check type of enum member\n",
    "print (\"The type of enum member is : \",end =\"\")\n",
    "print (type(Days.Mon))\n",
    "\n",
    "# print name of enum member\n",
    "print (\"The name of enum member is : \",end =\"\")\n",
    "print (Days.Tue.name)\n",
    "```"
   ]
  },
  {
   "cell_type": "code",
   "execution_count": 21,
   "id": "7a736394",
   "metadata": {},
   "outputs": [],
   "source": [
    "class MaskLabels(int, Enum):\n",
    "    MASK = 0\n",
    "    INCORRECT = 1\n",
    "    NORMAL = 2"
   ]
  },
  {
   "cell_type": "code",
   "execution_count": 33,
   "id": "a2869292",
   "metadata": {},
   "outputs": [
    {
     "name": "stdout",
     "output_type": "stream",
     "text": [
      "<class 'enum.EnumMeta'>\n",
      "MaskLabels.MASK\n",
      "MaskLabels.INCORRECT\n",
      "MaskLabels.NORMAL\n",
      "MaskLabels.MASK\n"
     ]
    }
   ],
   "source": [
    "print(type(MaskLabels))\n",
    "print(MaskLabels.MASK)\n",
    "print(MaskLabels.INCORRECT)\n",
    "print(MaskLabels.NORMAL)"
   ]
  },
  {
   "cell_type": "code",
   "execution_count": 26,
   "id": "eb825410",
   "metadata": {},
   "outputs": [],
   "source": [
    "class GenderLabels(int, Enum):\n",
    "    MALE = 0\n",
    "    FEMALE = 1\n",
    "\n",
    "    @classmethod\n",
    "    def from_str(cls, value: str) -> int:\n",
    "        value = value.lower()\n",
    "        if value == \"male\":\n",
    "            return cls.MALE\n",
    "        elif value == \"female\":\n",
    "            return cls.FEMALE\n",
    "        else:\n",
    "            raise ValueError(f\"Gender value should be either 'male' or 'female', {value}\")\n"
   ]
  },
  {
   "cell_type": "code",
   "execution_count": 39,
   "id": "b1822917",
   "metadata": {},
   "outputs": [
    {
     "data": {
      "text/plain": [
       "0"
      ]
     },
     "execution_count": 39,
     "metadata": {},
     "output_type": "execute_result"
    }
   ],
   "source": [
    "gender = GenderLabels.from_str('male')\n",
    "gender * 5"
   ]
  },
  {
   "cell_type": "code",
   "execution_count": 27,
   "id": "0377060b",
   "metadata": {},
   "outputs": [],
   "source": [
    "class AgeLabels(int, Enum):\n",
    "    YOUNG = 0\n",
    "    MIDDLE = 1\n",
    "    OLD = 2\n",
    "\n",
    "    @classmethod\n",
    "    def from_number(cls, value: str) -> int:\n",
    "        try:\n",
    "            value = int(value)\n",
    "        except Exception:\n",
    "            raise ValueError(f\"Age value should be numeric, {value}\")\n",
    "\n",
    "        if value < 30:\n",
    "            return cls.YOUNG\n",
    "        elif value < 60:\n",
    "            return cls.MIDDLE\n",
    "        else:\n",
    "            return cls.OLD"
   ]
  },
  {
   "cell_type": "code",
   "execution_count": 38,
   "id": "984ba47b",
   "metadata": {},
   "outputs": [
    {
     "data": {
      "text/plain": [
       "43"
      ]
     },
     "execution_count": 38,
     "metadata": {},
     "output_type": "execute_result"
    }
   ],
   "source": [
    "age = AgeLabels.from_number(40)\n",
    "age * 43"
   ]
  },
  {
   "cell_type": "markdown",
   "id": "b6285a6d",
   "metadata": {},
   "source": [
    "### MaskBaseDataset\n",
    "> 분석할 Dataset Class 입니다. \n",
    "> 매우 길어 하나씩 분석해 보겠습니다. "
   ]
  },
  {
   "cell_type": "code",
   "execution_count": 30,
   "id": "12399df3",
   "metadata": {},
   "outputs": [],
   "source": [
    "class MaskBaseDataset(Dataset):\n",
    "    num_classes = 3 * 2 * 3\n",
    "\n",
    "    _file_names = {\n",
    "        \"mask1\": MaskLabels.MASK,\n",
    "        \"mask2\": MaskLabels.MASK,\n",
    "        \"mask3\": MaskLabels.MASK,\n",
    "        \"mask4\": MaskLabels.MASK,\n",
    "        \"mask5\": MaskLabels.MASK,\n",
    "        \"incorrect_mask\": MaskLabels.INCORRECT,\n",
    "        \"normal\": MaskLabels.NORMAL\n",
    "    }\n",
    "\n",
    "    image_paths = []\n",
    "    mask_labels = []\n",
    "    gender_labels = []\n",
    "    age_labels = []\n",
    "\n",
    "    def __init__(self, data_dir, mean=(0.548, 0.504, 0.479), std=(0.237, 0.247, 0.246), val_ratio=0.2):\n",
    "        self.data_dir = data_dir\n",
    "        self.mean = mean\n",
    "        self.std = std\n",
    "        self.val_ratio = val_ratio\n",
    "\n",
    "        self.transform = None\n",
    "        self.setup()\n",
    "        self.calc_statistics()\n",
    "\n",
    "    def setup(self):\n",
    "        profiles = os.listdir(self.data_dir)\n",
    "        for profile in profiles:\n",
    "            if profile.startswith(\".\"):  # \".\" 로 시작하는 파일은 무시합니다\n",
    "                continue\n",
    "\n",
    "            img_folder = os.path.join(self.data_dir, profile)\n",
    "            for file_name in os.listdir(img_folder):\n",
    "                _file_name, ext = os.path.splitext(file_name)\n",
    "                if _file_name not in self._file_names:  # \".\" 로 시작하는 파일 및 invalid 한 파일들은 무시합니다\n",
    "                    continue\n",
    "\n",
    "                img_path = os.path.join(self.data_dir, profile, file_name)  # (resized_data, 000004_male_Asian_54, mask1.jpg)\n",
    "                mask_label = self._file_names[_file_name]\n",
    "\n",
    "                id, gender, race, age = profile.split(\"_\")\n",
    "                gender_label = GenderLabels.from_str(gender)\n",
    "                age_label = AgeLabels.from_number(age)\n",
    "\n",
    "                self.image_paths.append(img_path)\n",
    "                self.mask_labels.append(mask_label)\n",
    "                self.gender_labels.append(gender_label)\n",
    "                self.age_labels.append(age_label)\n",
    "\n",
    "    def calc_statistics(self):\n",
    "        has_statistics = self.mean is not None and self.std is not None\n",
    "        if not has_statistics:\n",
    "            print(\"[Warning] Calculating statistics... It can take a long time depending on your CPU machine\")\n",
    "            sums = []\n",
    "            squared = []\n",
    "            for image_path in self.image_paths[:3000]:\n",
    "                image = np.array(Image.open(image_path)).astype(np.int32)\n",
    "                sums.append(image.mean(axis=(0, 1)))\n",
    "                squared.append((image ** 2).mean(axis=(0, 1)))\n",
    "\n",
    "            self.mean = np.mean(sums, axis=0) / 255\n",
    "            self.std = (np.mean(squared, axis=0) - self.mean ** 2) ** 0.5 / 255\n",
    "\n",
    "    def set_transform(self, transform):\n",
    "        self.transform = transform\n",
    "\n",
    "    def __getitem__(self, index):\n",
    "        assert self.transform is not None, \".set_tranform 메소드를 이용하여 transform 을 주입해주세요\"\n",
    "\n",
    "        image = self.read_image(index)\n",
    "        mask_label = self.get_mask_label(index)\n",
    "        gender_label = self.get_gender_label(index)\n",
    "        age_label = self.get_age_label(index)\n",
    "        multi_class_label = self.encode_multi_class(mask_label, gender_label, age_label)\n",
    "\n",
    "        image_transform = self.transform(image)\n",
    "        return image_transform, multi_class_label\n",
    "\n",
    "    def __len__(self):\n",
    "        return len(self.image_paths)\n",
    "\n",
    "    def get_mask_label(self, index) -> MaskLabels:\n",
    "        return self.mask_labels[index]\n",
    "\n",
    "    def get_gender_label(self, index) -> GenderLabels:\n",
    "        return self.gender_labels[index]\n",
    "\n",
    "    def get_age_label(self, index) -> AgeLabels:\n",
    "        return self.age_labels[index]\n",
    "\n",
    "    def read_image(self, index):\n",
    "        image_path = self.image_paths[index]\n",
    "        return Image.open(image_path)\n",
    "\n",
    "    @staticmethod\n",
    "    def encode_multi_class(mask_label, gender_label, age_label) -> int:\n",
    "        return mask_label * 6 + gender_label * 3 + age_label\n",
    "\n",
    "    @staticmethod\n",
    "    def decode_multi_class(multi_class_label) -> Tuple[MaskLabels, GenderLabels, AgeLabels]:\n",
    "        mask_label = (multi_class_label // 6) % 3\n",
    "        gender_label = (multi_class_label // 3) % 2\n",
    "        age_label = multi_class_label % 3\n",
    "        return mask_label, gender_label, age_label\n",
    "\n",
    "    @staticmethod\n",
    "    def denormalize_image(image, mean, std):\n",
    "        img_cp = image.copy()\n",
    "        img_cp *= std\n",
    "        img_cp += mean\n",
    "        img_cp *= 255.0\n",
    "        img_cp = np.clip(img_cp, 0, 255).astype(np.uint8)\n",
    "        return img_cp\n",
    "\n",
    "    def split_dataset(self) -> Tuple[Subset, Subset]:\n",
    "        \"\"\"\n",
    "        데이터셋을 train 과 val 로 나눕니다,\n",
    "        pytorch 내부의 torch.utils.data.random_split 함수를 사용하여\n",
    "        torch.utils.data.Subset 클래스 둘로 나눕니다.\n",
    "        구현이 어렵지 않으니 구글링 혹은 IDE (e.g. pycharm) 의 navigation 기능을 통해 코드를 한 번 읽어보는 것을 추천드립니다^^\n",
    "        \"\"\"\n",
    "        n_val = int(len(self) * self.val_ratio)\n",
    "        n_train = len(self) - n_val\n",
    "        train_set, val_set = random_split(self, [n_train, n_val])\n",
    "        return train_set, val_set"
   ]
  },
  {
   "cell_type": "markdown",
   "id": "23ad4ad7",
   "metadata": {},
   "source": [
    "#### step1\n",
    "> num_classes, _file_names 등 클래스 개수 및 labeling dictionary를 설정합니다.  \n",
    "> image_paths, mask_labels, gender_labels, age_labels 등 map-style dataset 의 인덱싱을 위해 설정합니다. \n"
   ]
  },
  {
   "cell_type": "code",
   "execution_count": 125,
   "id": "9685c7ec",
   "metadata": {},
   "outputs": [],
   "source": [
    "num_classes = 3 * 2 * 3\n",
    "\n",
    "_file_names = {\n",
    "    \"mask1\": MaskLabels.MASK,\n",
    "    \"mask2\": MaskLabels.MASK,\n",
    "    \"mask3\": MaskLabels.MASK,\n",
    "    \"mask4\": MaskLabels.MASK,\n",
    "    \"mask5\": MaskLabels.MASK,\n",
    "    \"incorrect_mask\": MaskLabels.INCORRECT,\n",
    "    \"normal\": MaskLabels.NORMAL\n",
    "}\n",
    "\n",
    "image_paths = []\n",
    "mask_labels = []\n",
    "gender_labels = []\n",
    "age_labels = []\n",
    "\n",
    "data_dir = '/opt/ml/input/data/train/images'\n",
    "profiles = os.listdir(data_dir)"
   ]
  },
  {
   "cell_type": "markdown",
   "id": "e088d019",
   "metadata": {},
   "source": [
    "#### step2 - setup\n",
    "> 해당 부분은 난해애 보이나 data가 어떻게 저장되어 있는지에 따라 경로를 찾는 과정일 뿐입니다.  \n",
    "> 위에서 정의한 image_paths, mask_labels, gender_labels, age_labels 에 사진 정보를 저장합니다.  "
   ]
  },
  {
   "cell_type": "code",
   "execution_count": 3,
   "id": "653bee42",
   "metadata": {},
   "outputs": [],
   "source": [
    "for ind, profile in enumerate(profiles):\n",
    "    if profile.startswith(\".\"):  # \".\" 로 시작하는 파일은 무시합니다\n",
    "                continue\n",
    "    \n",
    "    img_folder = os.path.join(data_dir, profile)\n",
    "    print(f'ind : {ind}, profile : {profile}, img_folder : {img_folder}')\n",
    "    for file_name in os.listdir(img_folder):\n",
    "        _file_name, ext = os.path.splitext(file_name)\n",
    "        if _file_name not in _file_names:  # \".\" 로 시작하는 파일 및 invalid 한 파일들은 무시합니다\n",
    "            continue\n",
    "        \n",
    "        img_path = os.path.join(data_dir, profile, file_name)\n",
    "        \n",
    "        mask_label = _file_names[_file_name]\n",
    "        print(f'img_path \" {img_path}')\n",
    "        print(f'mask_label \" {mask_label}')\n",
    "        id, gender, race, age = profile.split(\"_\")\n",
    "        gender_label = GenderLabels.from_str(gender)\n",
    "        age_label = AgeLabels.from_number(age)\n",
    "        print(f'gender_label \" {gender_label}')\n",
    "        print(f'age_label \" {age_label}')\n",
    "        "
   ]
  },
  {
   "cell_type": "markdown",
   "id": "b7d95482",
   "metadata": {},
   "source": [
    "#### step3 - calc_statistics\n",
    "> 이미지의 statistics 를 계산합니다. "
   ]
  },
  {
   "cell_type": "code",
   "execution_count": 168,
   "id": "5cba242b",
   "metadata": {},
   "outputs": [],
   "source": [
    "sums = []"
   ]
  },
  {
   "cell_type": "code",
   "execution_count": 174,
   "id": "420eee6c",
   "metadata": {},
   "outputs": [],
   "source": [
    "image_path = '/opt/ml/input/data/train/images/004219_male_Asian_60/mask2.jpg'\n",
    "image_path = '/opt/ml/input/data/train/images/004219_male_Asian_60/mask4.jpg'"
   ]
  },
  {
   "cell_type": "code",
   "execution_count": 175,
   "id": "4966594b",
   "metadata": {},
   "outputs": [
    {
     "data": {
      "text/plain": [
       "(512, 384, 3)"
      ]
     },
     "execution_count": 175,
     "metadata": {},
     "output_type": "execute_result"
    }
   ],
   "source": [
    "image = np.array(Image.open(image_path)).astype(np.int32)\n",
    "image.shape"
   ]
  },
  {
   "cell_type": "code",
   "execution_count": 176,
   "id": "6673a064",
   "metadata": {},
   "outputs": [],
   "source": [
    "means = image.mean(axis=(0, 1))"
   ]
  },
  {
   "cell_type": "code",
   "execution_count": 177,
   "id": "8d9e3314",
   "metadata": {},
   "outputs": [
    {
     "data": {
      "text/plain": [
       "(3,)"
      ]
     },
     "execution_count": 177,
     "metadata": {},
     "output_type": "execute_result"
    }
   ],
   "source": [
    "means.shape"
   ]
  },
  {
   "cell_type": "code",
   "execution_count": 178,
   "id": "c9e559a6",
   "metadata": {},
   "outputs": [],
   "source": [
    "sums.append(means)"
   ]
  },
  {
   "cell_type": "code",
   "execution_count": 179,
   "id": "1bc21e56",
   "metadata": {},
   "outputs": [
    {
     "data": {
      "text/plain": [
       "[array([151.26723735, 125.40224202, 118.94506327]),\n",
       " array([151.26723735, 125.40224202, 118.94506327])]"
      ]
     },
     "execution_count": 179,
     "metadata": {},
     "output_type": "execute_result"
    }
   ],
   "source": [
    "sums"
   ]
  },
  {
   "cell_type": "code",
   "execution_count": 180,
   "id": "f3c14780",
   "metadata": {},
   "outputs": [
    {
     "data": {
      "text/plain": [
       "array([151.26723735, 125.40224202, 118.94506327])"
      ]
     },
     "execution_count": 180,
     "metadata": {},
     "output_type": "execute_result"
    }
   ],
   "source": [
    "np.mean(sums, axis=0)"
   ]
  },
  {
   "cell_type": "markdown",
   "id": "b8d34b5b",
   "metadata": {},
   "source": [
    "#### step4 나머지 함수들은 이해하기 어렵지 않습니다만 이후 part2) 에 업로드하겠습니다. "
   ]
  },
  {
   "cell_type": "code",
   "execution_count": 121,
   "id": "02b9f379",
   "metadata": {},
   "outputs": [],
   "source": [
    "class MaskBaseDataset(Dataset):\n",
    "    num_classes = 3 * 2 * 3\n",
    "\n",
    "    _file_names = {\n",
    "        \"mask1\": MaskLabels.MASK,\n",
    "        \"mask2\": MaskLabels.MASK,\n",
    "        \"mask3\": MaskLabels.MASK,\n",
    "        \"mask4\": MaskLabels.MASK,\n",
    "        \"mask5\": MaskLabels.MASK,\n",
    "        \"incorrect_mask\": MaskLabels.INCORRECT,\n",
    "        \"normal\": MaskLabels.NORMAL\n",
    "    }\n",
    "\n",
    "    image_paths = []\n",
    "    mask_labels = []\n",
    "    gender_labels = []\n",
    "    age_labels = []\n",
    "\n",
    "    def __init__(self, data_dir, mean=(0.548, 0.504, 0.479), std=(0.237, 0.247, 0.246), val_ratio=0.2):\n",
    "        self.data_dir = data_dir\n",
    "        self.mean = mean\n",
    "        self.std = std\n",
    "        self.val_ratio = val_ratio\n",
    "\n",
    "        self.transform = None\n",
    "        self.setup()\n",
    "        self.calc_statistics()\n",
    "\n",
    "    def setup(self):\n",
    "        profiles = os.listdir(self.data_dir)\n",
    "        for profile in profiles:\n",
    "            if profile.startswith(\".\"):  # \".\" 로 시작하는 파일은 무시합니다\n",
    "                continue\n",
    "\n",
    "            img_folder = os.path.join(self.data_dir, profile)\n",
    "            for file_name in os.listdir(img_folder):\n",
    "                _file_name, ext = os.path.splitext(file_name)\n",
    "                if _file_name not in self._file_names:  # \".\" 로 시작하는 파일 및 invalid 한 파일들은 무시합니다\n",
    "                    continue\n",
    "\n",
    "                img_path = os.path.join(self.data_dir, profile, file_name)  # (resized_data, 000004_male_Asian_54, mask1.jpg)\n",
    "                mask_label = self._file_names[_file_name]\n",
    "\n",
    "                id, gender, race, age = profile.split(\"_\")\n",
    "                gender_label = GenderLabels.from_str(gender)\n",
    "                age_label = AgeLabels.from_number(age)\n",
    "\n",
    "                self.image_paths.append(img_path)\n",
    "                self.mask_labels.append(mask_label)\n",
    "                self.gender_labels.append(gender_label)\n",
    "                self.age_labels.append(age_label)\n",
    "\n",
    "    def calc_statistics(self):\n",
    "        has_statistics = self.mean is not None and self.std is not None\n",
    "        if not has_statistics:\n",
    "            print(\"[Warning] Calculating statistics... It can take a long time depending on your CPU machine\")\n",
    "            sums = []\n",
    "            squared = []\n",
    "            for image_path in self.image_paths[:3000]:\n",
    "                image = np.array(Image.open(image_path)).astype(np.int32)\n",
    "                sums.append(image.mean(axis=(0, 1)))\n",
    "                squared.append((image ** 2).mean(axis=(0, 1)))\n",
    "\n",
    "            self.mean = np.mean(sums, axis=0) / 255\n",
    "            self.std = (np.mean(squared, axis=0) - self.mean ** 2) ** 0.5 / 255\n",
    "\n",
    "    def set_transform(self, transform):\n",
    "        self.transform = transform\n",
    "\n",
    "    def __getitem__(self, index):\n",
    "        assert self.transform is not None, \".set_tranform 메소드를 이용하여 transform 을 주입해주세요\"\n",
    "\n",
    "        image = self.read_image(index)\n",
    "        mask_label = self.get_mask_label(index)\n",
    "        gender_label = self.get_gender_label(index)\n",
    "        age_label = self.get_age_label(index)\n",
    "        multi_class_label = self.encode_multi_class(mask_label, gender_label, age_label)\n",
    "\n",
    "        image_transform = self.transform(image)\n",
    "        return image_transform, multi_class_label\n",
    "\n",
    "    def __len__(self):\n",
    "        return len(self.image_paths)\n",
    "\n",
    "    def get_mask_label(self, index) -> MaskLabels:\n",
    "        return self.mask_labels[index]\n",
    "\n",
    "    def get_gender_label(self, index) -> GenderLabels:\n",
    "        return self.gender_labels[index]\n",
    "\n",
    "    def get_age_label(self, index) -> AgeLabels:\n",
    "        return self.age_labels[index]\n",
    "\n",
    "    def read_image(self, index):\n",
    "        image_path = self.image_paths[index]\n",
    "        return Image.open(image_path)\n",
    "\n",
    "    @staticmethod\n",
    "    def encode_multi_class(mask_label, gender_label, age_label) -> int:\n",
    "        return mask_label * 6 + gender_label * 3 + age_label\n",
    "\n",
    "    @staticmethod\n",
    "    def decode_multi_class(multi_class_label) -> Tuple[MaskLabels, GenderLabels, AgeLabels]:\n",
    "        mask_label = (multi_class_label // 6) % 3\n",
    "        gender_label = (multi_class_label // 3) % 2\n",
    "        age_label = multi_class_label % 3\n",
    "        return mask_label, gender_label, age_label\n",
    "\n",
    "    @staticmethod\n",
    "    def denormalize_image(image, mean, std):\n",
    "        img_cp = image.copy()\n",
    "        img_cp *= std\n",
    "        img_cp += mean\n",
    "        img_cp *= 255.0\n",
    "        img_cp = np.clip(img_cp, 0, 255).astype(np.uint8)\n",
    "        return img_cp\n",
    "\n",
    "    def split_dataset(self) -> Tuple[Subset, Subset]:\n",
    "        \"\"\"\n",
    "        데이터셋을 train 과 val 로 나눕니다,\n",
    "        pytorch 내부의 torch.utils.data.random_split 함수를 사용하여\n",
    "        torch.utils.data.Subset 클래스 둘로 나눕니다.\n",
    "        구현이 어렵지 않으니 구글링 혹은 IDE (e.g. pycharm) 의 navigation 기능을 통해 코드를 한 번 읽어보는 것을 추천드립니다^^\n",
    "        \"\"\"\n",
    "        n_val = int(len(self) * self.val_ratio)\n",
    "        n_train = len(self) - n_val\n",
    "        train_set, val_set = random_split(self, [n_train, n_val])\n",
    "        return train_set, val_set"
   ]
  },
  {
   "cell_type": "code",
   "execution_count": 123,
   "id": "b2514511",
   "metadata": {},
   "outputs": [],
   "source": [
    "a = MaskBaseDataset('/opt/ml/input/data/train/images')"
   ]
  },
  {
   "cell_type": "code",
   "execution_count": null,
   "id": "ef18bc78",
   "metadata": {},
   "outputs": [],
   "source": []
  }
 ],
 "metadata": {
  "kernelspec": {
   "display_name": "py38_transformers",
   "language": "python",
   "name": "py38"
  },
  "language_info": {
   "codemirror_mode": {
    "name": "ipython",
    "version": 3
   },
   "file_extension": ".py",
   "mimetype": "text/x-python",
   "name": "python",
   "nbconvert_exporter": "python",
   "pygments_lexer": "ipython3",
   "version": "3.8.12"
  }
 },
 "nbformat": 4,
 "nbformat_minor": 5
}
